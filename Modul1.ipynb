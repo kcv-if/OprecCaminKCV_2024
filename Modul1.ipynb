{
  "nbformat": 4,
  "nbformat_minor": 0,
  "metadata": {
    "colab": {
      "provenance": []
    },
    "kernelspec": {
      "name": "python3",
      "display_name": "Python 3"
    },
    "language_info": {
      "name": "python"
    }
  },
  "cells": [
    {
      "cell_type": "markdown",
      "source": [
        "# Introduction to Python"
      ],
      "metadata": {
        "id": "9rSYezxotQs7"
      }
    },
    {
      "cell_type": "markdown",
      "source": [
        "## Hello World in Python"
      ],
      "metadata": {
        "id": "Vzgby_2RtfVK"
      }
    },
    {
      "cell_type": "markdown",
      "source": [
        "**What is Python?**\n",
        "\n",
        "Python is a dynamic, interpreted (bytecode-compiled) language. Designed by Guido van Rossum, Python is a popular and widely used language in various IT fields, such as AI, Data Science, Machine Learning, Deep Learning, Web Development, and Deployment.\n",
        "\n",
        "**Why programming with Python?**\n",
        "* easy-to-understand and human-friendly syntax\n",
        "* a cross-platform compatible language\n",
        "* provides a comprehensive set of libraries and frameworks\n",
        "* preferred choice for professionals\n",
        "* flexible and versatile"
      ],
      "metadata": {
        "id": "xRVRK_JRtkbB"
      }
    },
    {
      "cell_type": "code",
      "execution_count": null,
      "metadata": {
        "id": "xHkOHZCKpcQ2",
        "colab": {
          "base_uri": "https://localhost:8080/"
        },
        "outputId": "e2690d7e-ebe6-42a5-8a84-ade32910fbd0"
      },
      "outputs": [
        {
          "output_type": "stream",
          "name": "stdout",
          "text": [
            "Python 3.10.12\n"
          ]
        }
      ],
      "source": [
        "# Check an installed Python\n",
        "! python --version"
      ]
    },
    {
      "cell_type": "code",
      "source": [
        "print(\"Hello World!\")"
      ],
      "metadata": {
        "colab": {
          "base_uri": "https://localhost:8080/"
        },
        "id": "6NtXkxfq5aZH",
        "outputId": "98235c11-9f10-4cda-f4c2-65a36b649482"
      },
      "execution_count": null,
      "outputs": [
        {
          "output_type": "stream",
          "name": "stdout",
          "text": [
            "Hello World!\n"
          ]
        }
      ]
    },
    {
      "cell_type": "code",
      "source": [
        "name = \"Anneu\"\n",
        "print(\"Hello \" + name + \"!\")"
      ],
      "metadata": {
        "colab": {
          "base_uri": "https://localhost:8080/"
        },
        "id": "CRPxHsXb5aBH",
        "outputId": "8c60a7b7-bd22-4617-b899-f952932c9e9c"
      },
      "execution_count": null,
      "outputs": [
        {
          "output_type": "stream",
          "name": "stdout",
          "text": [
            "Hello Anneu!\n"
          ]
        }
      ]
    },
    {
      "cell_type": "markdown",
      "source": [
        "# Built-in Functions"
      ],
      "metadata": {
        "id": "oHRMTV26IuG3"
      }
    },
    {
      "cell_type": "markdown",
      "source": [
        "## print()\n",
        "\n",
        "* outputs a specified object to the screen\n",
        "* to use the print() function, you pass the object you want to print as an argument to the function\n",
        "* takes in any number of arguments, separated by a comma, and prints all of them."
      ],
      "metadata": {
        "id": "VJzMcCocI0Y_"
      }
    },
    {
      "cell_type": "code",
      "source": [
        "month = \"September\"\n",
        "print(\"Investigate failed login attempts during\", month, \"if more than\", 100)"
      ],
      "metadata": {
        "id": "fNaP9dlZJwhG",
        "colab": {
          "base_uri": "https://localhost:8080/"
        },
        "outputId": "17ecec64-b97b-4e34-83ba-04aeffb580b9"
      },
      "execution_count": null,
      "outputs": [
        {
          "output_type": "stream",
          "name": "stdout",
          "text": [
            "Investigate failed login attempts during September if more than 100\n"
          ]
        }
      ]
    },
    {
      "cell_type": "markdown",
      "source": [
        "## type()\n",
        "* returns the data type of its argument\n",
        "* helps you keep track of the data types of variables to avoid errors\n",
        "* to use it, you pass the object as an argument, and it returns its data type\n",
        "* it only accepts one argument"
      ],
      "metadata": {
        "id": "U9JT_QRMJ2o6"
      }
    },
    {
      "cell_type": "code",
      "source": [
        "print(type(\"This is a string\"))"
      ],
      "metadata": {
        "colab": {
          "base_uri": "https://localhost:8080/"
        },
        "id": "jcKRFxu1Kiur",
        "outputId": "c58fe241-5c36-4e81-d62f-4b33bb31f126"
      },
      "execution_count": null,
      "outputs": [
        {
          "output_type": "stream",
          "name": "stdout",
          "text": [
            "<class 'str'>\n"
          ]
        }
      ]
    },
    {
      "cell_type": "markdown",
      "source": [
        "## str()\n",
        "* can be used to convert any data type to a string\n",
        "* takes a single argument"
      ],
      "metadata": {
        "id": "nN3H_AI8LB4D"
      }
    },
    {
      "cell_type": "code",
      "source": [
        "number = 12\n",
        "string_representation = str(number)\n",
        "print(string_representation)"
      ],
      "metadata": {
        "id": "wEJvwSh-LQNd"
      },
      "execution_count": null,
      "outputs": []
    },
    {
      "cell_type": "markdown",
      "source": [
        "## sorted()\n",
        "* sorts the components of a list\n",
        "* works on any iterable, like a string, and returns the sorted elements in a list\n",
        "* by default, it sorts them in ascending order\n",
        "* does not change the iterable that it sorts\n",
        "* cannot take lists or strings that have elements of more than one data type"
      ],
      "metadata": {
        "id": "MsZIMDXmLRGf"
      }
    },
    {
      "cell_type": "code",
      "source": [
        "time_list = [12, 2, 32, 19, 57, 22, 14]\n",
        "print(sorted(time_list))\n",
        "print(time_list)"
      ],
      "metadata": {
        "colab": {
          "base_uri": "https://localhost:8080/"
        },
        "id": "KiLCU69nL0Ns",
        "outputId": "52409960-362f-413a-9ecc-561d5b3934b0"
      },
      "execution_count": null,
      "outputs": [
        {
          "output_type": "stream",
          "name": "stdout",
          "text": [
            "[2, 12, 14, 19, 22, 32, 57]\n",
            "[12, 2, 32, 19, 57, 22, 14]\n"
          ]
        }
      ]
    },
    {
      "cell_type": "markdown",
      "source": [
        "## max() and min()\n",
        "* accept arguments of either multiple numeric values or of an iterable like a list\n",
        "* return the largest or smallest value respectively"
      ],
      "metadata": {
        "id": "bieYCvGPMH7d"
      }
    },
    {
      "cell_type": "code",
      "source": [
        "time_list = [12, 2, 32, 19, 57, 22, 14]\n",
        "print(min(time_list))\n",
        "print(max(time_list))"
      ],
      "metadata": {
        "id": "GO9O1Xw-MZRL"
      },
      "execution_count": null,
      "outputs": []
    },
    {
      "cell_type": "markdown",
      "source": [
        "# Basics of Python"
      ],
      "metadata": {
        "id": "-0s6iza-78AA"
      }
    },
    {
      "cell_type": "markdown",
      "source": [
        "## Dynamic Typing\n",
        "* No need to declare variable types\n",
        "* Variable types can change over time as new values are assigned to them"
      ],
      "metadata": {
        "id": "2FIYuzNXEi34"
      }
    },
    {
      "cell_type": "code",
      "source": [
        "a = 3  # a adalah sebuah integer\n",
        "print(type(a))\n",
        "\n",
        "a = \"Hello world\"  # a sekarang adalah sebuah string\n",
        "print(type(a))"
      ],
      "metadata": {
        "colab": {
          "base_uri": "https://localhost:8080/"
        },
        "id": "4VGaL8EFFmPz",
        "outputId": "a4ea437f-fb3b-4a89-e8ce-76fc6f680fb6"
      },
      "execution_count": null,
      "outputs": [
        {
          "output_type": "stream",
          "name": "stdout",
          "text": [
            "<class 'int'>\n",
            "<class 'str'>\n"
          ]
        }
      ]
    },
    {
      "cell_type": "markdown",
      "source": [
        "\n",
        "\n",
        "> Note: Python decides which of the built-in types the variable is and, therefore, how it should behave.\n",
        "\n"
      ],
      "metadata": {
        "id": "4AL5dOJfGD7j"
      }
    },
    {
      "cell_type": "markdown",
      "source": [
        "## Arithmetic Operations\n",
        "Python can calculate numbers using common mathematical operators, along with some special operators, too:"
      ],
      "metadata": {
        "id": "ev2BP__H8GhM"
      }
    },
    {
      "cell_type": "code",
      "source": [
        "x = 5\n",
        "y = 3\n",
        "\n",
        "# Addition + operator returns the sum of x plus y\n",
        "print(\"x + y =\", x + y)\n",
        "\n",
        "# Subtraction - operator returns the difference of x minus y\n",
        "print(\"x - y =\", x - y)\n",
        "\n",
        "# Multiplication * operator returns the product of x times y\n",
        "print(\"x * y =\", x * y)\n",
        "\n",
        "# Division / operator returns the quotient of x divided by y\n",
        "print(\"x / y =\", x / y)\n",
        "\n",
        "# Exponent ** operator returns the result of raising x to the power of e\n",
        "print(\"x ** y =\", x ** y)\n",
        "\n",
        "# Floor division operator returns the integer part of the integer division of x by y\n",
        "print(\"x // y =\", x // y)\n",
        "\n",
        "# Modulo operator returns the remainder part of the integer division of x by y\n",
        "print(\"x % y =\", x % y)"
      ],
      "metadata": {
        "colab": {
          "base_uri": "https://localhost:8080/"
        },
        "id": "dGTufXBKBQWD",
        "outputId": "3ccec3eb-e94e-4c9a-996a-9d02eca96b18"
      },
      "execution_count": null,
      "outputs": [
        {
          "output_type": "stream",
          "name": "stdout",
          "text": [
            "x + y = 8\n",
            "x - y = 2\n",
            "x * y = 15\n",
            "x / y = 1.6666666666666667\n",
            "x ** y = 125\n",
            "x // y = 1\n",
            "x % y = 2\n"
          ]
        }
      ]
    },
    {
      "cell_type": "markdown",
      "source": [
        "## Order of Operations\n",
        "The order of operations are to be calculated from left to right in the following order:\n",
        "* Parentheses ( ), { }, [ ]\n",
        "* Exponents xe   (x**e)\n",
        "* Multiplication * and Division /  \n",
        "* Addition + and Subtraction -    "
      ],
      "metadata": {
        "id": "HEPLH1_R-mam"
      }
    },
    {
      "cell_type": "code",
      "source": [
        "result = 8 + 4 * 2 ** 2 / 4 - 2\n",
        "print(\"Hasil operasi:\", result)"
      ],
      "metadata": {
        "colab": {
          "base_uri": "https://localhost:8080/"
        },
        "id": "HhM1pHVB_BG1",
        "outputId": "2960f17f-3fc8-4e1f-d839-549dedab6456"
      },
      "execution_count": null,
      "outputs": [
        {
          "output_type": "stream",
          "name": "stdout",
          "text": [
            "Hasil operasi: 10.0\n"
          ]
        }
      ]
    },
    {
      "cell_type": "code",
      "source": [
        "result = (8 + 4) * 2 ** 2 / (4 - 2)\n",
        "print(\"Hasil operasi:\", result)"
      ],
      "metadata": {
        "colab": {
          "base_uri": "https://localhost:8080/"
        },
        "id": "AyrmrA8A_APg",
        "outputId": "ff2a12a8-1abe-4228-8bf8-77b9f2354d7a"
      },
      "execution_count": null,
      "outputs": [
        {
          "output_type": "stream",
          "name": "stdout",
          "text": [
            "Hasil operasi: 24.0\n"
          ]
        }
      ]
    },
    {
      "cell_type": "markdown",
      "source": [
        "## Comparison Operators with Equations\n",
        "Comparison operators return Boolean results that can hold only one of two values: **True** or **False**.  \n",
        "\n",
        "> Note: In Python, you can use comparison operators to compare strings\n",
        "\n"
      ],
      "metadata": {
        "id": "bUKugLZWNTwq"
      }
    },
    {
      "cell_type": "markdown",
      "source": [
        "### Equality == and Not Equal To != Operators\n",
        "* Boolean data types are not string data types (Boolean True is not equal to the string \"True\")\n",
        "* To check if two values are the same, use the equality operator: ==\n",
        "* To check if two values are not the same, use the not equal to operator: !="
      ],
      "metadata": {
        "id": "IKyIuJ4bN_ml"
      }
    },
    {
      "cell_type": "code",
      "source": [
        "print(32 == 30+2)\n",
        "print(5+10 == 6+7)\n",
        "print(10-4 != 10+4)\n",
        "print(9/3 != 3*1)"
      ],
      "metadata": {
        "colab": {
          "base_uri": "https://localhost:8080/"
        },
        "id": "cGqUE9BrNuvo",
        "outputId": "a87de5fe-da56-49b7-8a69-fd176ae63b99"
      },
      "execution_count": null,
      "outputs": [
        {
          "output_type": "stream",
          "name": "stdout",
          "text": [
            "True\n",
            "False\n",
            "True\n",
            "False\n",
            "True\n",
            "False\n",
            "True\n",
            "False\n",
            "False\n"
          ]
        }
      ]
    },
    {
      "cell_type": "code",
      "source": [
        "print(\"a string\" == \"a string\")\n",
        "print(\"4 + 5\" == 4 + 5) #left data type is a string and the right data type is an integer, the two values cannot be equal\n",
        "print(\"rabbit\" != \"frog\")\n",
        "event_city = \"Shanghai\"\n",
        "print(event_city != \"Shanghai\")\n",
        "print(\"three\" == 3)"
      ],
      "metadata": {
        "colab": {
          "base_uri": "https://localhost:8080/"
        },
        "id": "K57kpwJZQNKW",
        "outputId": "fee801c5-1d72-4131-de62-22397d233b68"
      },
      "execution_count": null,
      "outputs": [
        {
          "output_type": "stream",
          "name": "stdout",
          "text": [
            "True\n",
            "False\n",
            "True\n",
            "False\n",
            "False\n"
          ]
        }
      ]
    },
    {
      "cell_type": "markdown",
      "source": [
        "\n",
        "\n",
        "> Note: the equality == comparison operator performs a different task than the equals = assignment operator\n",
        "\n"
      ],
      "metadata": {
        "id": "zWkLgqUgOpil"
      }
    },
    {
      "cell_type": "markdown",
      "source": [
        "### Greater Than > and Less Than < Operators\n",
        "* also return a True or False Boolean result\n",
        "* to check if one value is larger than another value, use the greater than operator: >\n",
        "* to check if one value is smaller than another value, use the less than operator: <"
      ],
      "metadata": {
        "id": "jeJamUvcO41y"
      }
    },
    {
      "cell_type": "code",
      "source": [
        "print(11 > 3*3)\n",
        "print(4/2 > 8-4)\n",
        "print(4/2 < 8-4)\n",
        "print(11 < 3*3)"
      ],
      "metadata": {
        "colab": {
          "base_uri": "https://localhost:8080/"
        },
        "id": "QXtAOrucPBhr",
        "outputId": "c189d29b-9823-481c-f520-303fdf2339f6"
      },
      "execution_count": null,
      "outputs": [
        {
          "output_type": "stream",
          "name": "stdout",
          "text": [
            "True\n",
            "False\n",
            "True\n",
            "False\n"
          ]
        }
      ]
    },
    {
      "cell_type": "code",
      "source": [
        "print(\"Wednesday\" > \"Friday\")\n",
        "print(\"Brown\" < \"brown\")\n",
        "print(\"sunbathe\" > \"suntan\")\n",
        "print(\"Lima\" < \"Lima\")\n",
        "print(\"Five\" < 6)"
      ],
      "metadata": {
        "colab": {
          "base_uri": "https://localhost:8080/",
          "height": 245
        },
        "id": "koTC4WERRnVL",
        "outputId": "98d7555f-c58c-474f-825a-17a5ba6c419e"
      },
      "execution_count": null,
      "outputs": [
        {
          "output_type": "stream",
          "name": "stdout",
          "text": [
            "True\n",
            "True\n",
            "False\n",
            "False\n"
          ]
        },
        {
          "output_type": "error",
          "ename": "TypeError",
          "evalue": "'<' not supported between instances of 'str' and 'int'",
          "traceback": [
            "\u001b[0;31m---------------------------------------------------------------------------\u001b[0m",
            "\u001b[0;31mTypeError\u001b[0m                                 Traceback (most recent call last)",
            "\u001b[0;32m<ipython-input-37-df77048d1f9c>\u001b[0m in \u001b[0;36m<cell line: 5>\u001b[0;34m()\u001b[0m\n\u001b[1;32m      3\u001b[0m \u001b[0mprint\u001b[0m\u001b[0;34m(\u001b[0m\u001b[0;34m\"sunbathe\"\u001b[0m \u001b[0;34m>\u001b[0m \u001b[0;34m\"suntan\"\u001b[0m\u001b[0;34m)\u001b[0m\u001b[0;34m\u001b[0m\u001b[0;34m\u001b[0m\u001b[0m\n\u001b[1;32m      4\u001b[0m \u001b[0mprint\u001b[0m\u001b[0;34m(\u001b[0m\u001b[0;34m\"Lima\"\u001b[0m \u001b[0;34m<\u001b[0m \u001b[0;34m\"Lima\"\u001b[0m\u001b[0;34m)\u001b[0m\u001b[0;34m\u001b[0m\u001b[0;34m\u001b[0m\u001b[0m\n\u001b[0;32m----> 5\u001b[0;31m \u001b[0mprint\u001b[0m\u001b[0;34m(\u001b[0m\u001b[0;34m\"Five\"\u001b[0m \u001b[0;34m<\u001b[0m \u001b[0;36m6\u001b[0m\u001b[0;34m)\u001b[0m\u001b[0;34m\u001b[0m\u001b[0;34m\u001b[0m\u001b[0m\n\u001b[0m",
            "\u001b[0;31mTypeError\u001b[0m: '<' not supported between instances of 'str' and 'int'"
          ]
        }
      ]
    },
    {
      "cell_type": "markdown",
      "source": [
        "\n",
        "\n",
        "> Note: The letters of the alphabet have numeric codes in Unicode (also known as ASCII values). The uppercase letters A to Z are represented by the Unicode values 65 to 90. The lowercase letters a to z are represented by the Unicode values 97 to 122.\n",
        "\n"
      ],
      "metadata": {
        "id": "ivUzqdhSRgEz"
      }
    },
    {
      "cell_type": "markdown",
      "source": [
        "### Greater Than or Equal to >= and Less Than or Equal to <= Operators\n",
        "* also return a True or False Boolean result\n",
        "* to check if one value is larger than or equal to another value, use the greater than or equal to operator: >=\n",
        "* to check if one value is smaller than or equal to another value, use the less than or equal to operator: <="
      ],
      "metadata": {
        "id": "1l2XcIZKPRFp"
      }
    },
    {
      "cell_type": "code",
      "source": [
        "print(12*2 >= 24)\n",
        "print(18/2 >= 15)\n",
        "print(12*2 <= 30)\n",
        "print(15 <= 18/2)"
      ],
      "metadata": {
        "colab": {
          "base_uri": "https://localhost:8080/"
        },
        "id": "exQ17SlmPbLE",
        "outputId": "1e15c5b7-3cb2-4006-d084-3e39263fd45f"
      },
      "execution_count": null,
      "outputs": [
        {
          "output_type": "stream",
          "name": "stdout",
          "text": [
            "True\n",
            "False\n",
            "True\n",
            "False\n"
          ]
        }
      ]
    },
    {
      "cell_type": "code",
      "source": [
        "var1 = \"my computer\" >= \"my chair\"\n",
        "var2 = \"Spring\" <= \"Winter\"\n",
        "var3 = \"pineapple\" >= \"pineapple\"\n",
        "\n",
        "print(\"Is \\\"my computer\\\" greater than or equal to \\\"my chair\\\"? Result: \", var1)\n",
        "print(\"Is \\\"Spring\\\" less than or equal to \\\"Winter\\\"? Result: \", var2)\n",
        "print(\"Is \\\"pineapple\\\" less than or equal to \\\"pineapple\\\"? Result: \", var3)"
      ],
      "metadata": {
        "colab": {
          "base_uri": "https://localhost:8080/"
        },
        "id": "S2ortxIoSEWc",
        "outputId": "c1047a6d-b5d8-4faf-c0b1-459f15a0fa5c"
      },
      "execution_count": null,
      "outputs": [
        {
          "output_type": "stream",
          "name": "stdout",
          "text": [
            "Is \"my computer\" greater than or equal to \"my chair\"? Result:  True\n",
            "Is \"Spring\" less than or equal to \"Winter\"? Result:  True\n",
            "Is \"pineapple\" less than or equal to \"pineapple\"? Result:  True\n"
          ]
        }
      ]
    },
    {
      "cell_type": "markdown",
      "source": [
        "## Logical Operators\n",
        "* used to construct more complex expressions by joining comparison statements together using the logical operators: and, or, not\n",
        "* return a Boolean (True or False) result"
      ],
      "metadata": {
        "id": "mRlqKhVeSUKt"
      }
    },
    {
      "cell_type": "markdown",
      "source": [
        "### The **and** Logical Operator\n",
        "* used to check if two comparison statements are both True or not\n",
        "* used when you need to execute a block of code, but only if two different conditions are true"
      ],
      "metadata": {
        "id": "dS0VSVIZZ3bO"
      }
    },
    {
      "cell_type": "code",
      "source": [
        "print((6*3 >= 18) and (9+9 <= 36/2))"
      ],
      "metadata": {
        "colab": {
          "base_uri": "https://localhost:8080/"
        },
        "id": "VNEB4iwKaBig",
        "outputId": "d05de691-5f49-4417-bef2-35d80181ede3"
      },
      "execution_count": null,
      "outputs": [
        {
          "output_type": "stream",
          "name": "stdout",
          "text": [
            "True\n"
          ]
        }
      ]
    },
    {
      "cell_type": "code",
      "source": [
        "print(\"Nairobi\" < \"Milan\" and \"Nairobi\" > \"Hanoi\")"
      ],
      "metadata": {
        "colab": {
          "base_uri": "https://localhost:8080/"
        },
        "id": "6TN6SpniaeuO",
        "outputId": "cf3610ef-6960-4ee7-cb6c-4bcdd27fe329"
      },
      "execution_count": null,
      "outputs": [
        {
          "output_type": "stream",
          "name": "stdout",
          "text": [
            "False\n"
          ]
        }
      ]
    },
    {
      "cell_type": "markdown",
      "source": [
        "### The **or** Logical Operator\n",
        "The or Logical Operator used to trigger a block of code if at least one condition is present."
      ],
      "metadata": {
        "id": "RHu0pRiuaoYv"
      }
    },
    {
      "cell_type": "code",
      "source": [
        "# Define country and city variables\n",
        "country = \"United States\"\n",
        "city = \"New York City\"\n",
        "\n",
        "# True or True returns True\n",
        "print((15/3 < 2+4) or (0 >= 6-7))  # True or True = True\n",
        "\n",
        "# False or True returns True\n",
        "print(country == \"New York City\" or city == \"New York City\")  # False or True = True\n",
        "\n",
        "# True or False returns True\n",
        "print(16 <= 4**2 or 9**(0.5) != 3)  # True or False = True\n",
        "\n",
        "# False or False returns False\n",
        "print(\"B_name\" > \"C_name\" or \"B_name\" < \"A_name\") # False or False = False"
      ],
      "metadata": {
        "id": "hlF0UaDZb1VN"
      },
      "execution_count": null,
      "outputs": []
    },
    {
      "cell_type": "markdown",
      "source": [
        "### The **not** Logical Operator\n",
        "* inverts the value of the comparison expression\n",
        "* helpful when you want to execute a block of code as long as a certain condition is not present"
      ],
      "metadata": {
        "id": "0SXMop9Lb_lM"
      }
    },
    {
      "cell_type": "code",
      "source": [
        "x = 2*3 > 6\n",
        "print(\"The value of x is:\")\n",
        "print(x)\n",
        "\n",
        "print(\"\")  # Prints a blank line\n",
        "\n",
        "print(\"The inverse value of x is:\")\n",
        "print(not x)"
      ],
      "metadata": {
        "id": "38eL3Dh_cQF6"
      },
      "execution_count": null,
      "outputs": []
    },
    {
      "cell_type": "code",
      "source": [
        "today = \"Monday\"\n",
        "print(not today == \"Tuesday\")"
      ],
      "metadata": {
        "colab": {
          "base_uri": "https://localhost:8080/"
        },
        "id": "GuN72JFncSBS",
        "outputId": "b0e34042-f4d4-4eac-9d21-3b012c79d99d"
      },
      "execution_count": null,
      "outputs": [
        {
          "output_type": "stream",
          "name": "stdout",
          "text": [
            "True\n"
          ]
        }
      ]
    },
    {
      "cell_type": "markdown",
      "source": [
        "## Functions\n",
        "* define function with def keyword\n",
        "* has body, written as a block after colon and the block has to be indented to the right\n",
        "* to get value from a function use the return keyword"
      ],
      "metadata": {
        "id": "WwNtgmZCd6pX"
      }
    },
    {
      "cell_type": "code",
      "source": [
        "def greeting(name):\n",
        "  return 'Hello, ' + name\n",
        "\n",
        "print(greeting(\"Camin KCV\"))"
      ],
      "metadata": {
        "colab": {
          "base_uri": "https://localhost:8080/"
        },
        "id": "tfG1H9oDeP3x",
        "outputId": "907aaf9b-c5c6-4f11-90a5-beb5d63837d1"
      },
      "execution_count": null,
      "outputs": [
        {
          "output_type": "stream",
          "name": "stdout",
          "text": [
            "Hello, Camin KCV\n"
          ]
        }
      ]
    },
    {
      "cell_type": "markdown",
      "source": [
        "## Conditional Statements\n",
        "* the ability to alter its execution sequence is called branching\n",
        "* the **if** block will be executed only if the condition is True\n",
        "* Use **elif** & **else** statement to handle multiple conditions"
      ],
      "metadata": {
        "id": "vnPioAR3czHi"
      }
    },
    {
      "cell_type": "code",
      "source": [
        "hour = 10\n",
        "if hour < 12:\n",
        "  print(\"Good morning!\")"
      ],
      "metadata": {
        "id": "tkRwUdRCdv-X"
      },
      "execution_count": null,
      "outputs": []
    },
    {
      "cell_type": "code",
      "source": [
        "def check(number):\n",
        "    if number > 0:\n",
        "        return \"Positive\"\n",
        "    elif number == 0:\n",
        "        return \"Zero\"\n",
        "    else:\n",
        "        return \"Negative\"\n",
        "\n",
        "print(check(10))"
      ],
      "metadata": {
        "id": "TGmkVylNdy-L"
      },
      "execution_count": null,
      "outputs": []
    },
    {
      "cell_type": "markdown",
      "source": [
        "## Loops\n",
        "\n",
        "* instruct computer to continuously execute code based on the value of a condition\n"
      ],
      "metadata": {
        "id": "Xk_AvCGVegb9"
      }
    },
    {
      "cell_type": "code",
      "source": [
        "x = 7\n",
        "\n",
        "while x > 0:\n",
        "  print(\"positive x=\" + str(x))\n",
        "  x = x - 1\n",
        "  print(\"now x=\" + str(x))"
      ],
      "metadata": {
        "colab": {
          "base_uri": "https://localhost:8080/"
        },
        "id": "JJWiUQqWejJC",
        "outputId": "3456b4e3-9483-48de-96e6-054c01d1d7be"
      },
      "execution_count": null,
      "outputs": [
        {
          "output_type": "stream",
          "name": "stdout",
          "text": [
            "positive x=7\n",
            "now x=6\n",
            "positive x=6\n",
            "now x=5\n",
            "positive x=5\n",
            "now x=4\n",
            "positive x=4\n",
            "now x=3\n",
            "positive x=3\n",
            "now x=2\n",
            "positive x=2\n",
            "now x=1\n",
            "positive x=1\n",
            "now x=0\n"
          ]
        }
      ]
    },
    {
      "cell_type": "markdown",
      "source": [
        "**Warning** to avoid infinity loop like this"
      ],
      "metadata": {
        "id": "IDXl-Ri7erh-"
      }
    },
    {
      "cell_type": "code",
      "source": [
        "x = 1\n",
        "while x > 0:\n",
        "  print(\"positive x=\" + str(x))\n",
        "  x = x + 1 # Wrong conditions\n",
        "  print(\"now x=\" + str(x))"
      ],
      "metadata": {
        "id": "_bRsUWMaetvX"
      },
      "execution_count": null,
      "outputs": []
    },
    {
      "cell_type": "markdown",
      "source": [
        "\n",
        "**for** loop iterates over a sequence of values."
      ],
      "metadata": {
        "id": "OGmJe1xqev7f"
      }
    },
    {
      "cell_type": "code",
      "source": [
        "for x in range(3):\n",
        "  print(\"x=\" + str(x))"
      ],
      "metadata": {
        "id": "y2o_yQuxeyI-"
      },
      "execution_count": null,
      "outputs": []
    },
    {
      "cell_type": "markdown",
      "source": [
        "**for** loop also can do this"
      ],
      "metadata": {
        "id": "oL9Wom27e6vf"
      }
    },
    {
      "cell_type": "code",
      "source": [
        "sentences = ['Bangkit', \"2024\", \"H1\"]\n",
        "for word in sentences:\n",
        "  print(word)"
      ],
      "metadata": {
        "id": "SGq-jnsse7fj"
      },
      "execution_count": null,
      "outputs": []
    },
    {
      "cell_type": "markdown",
      "source": [
        "Both while and for loops can be interrupted using the **break** keyword.\n",
        "\n"
      ],
      "metadata": {
        "id": "UlecEZIWe9LN"
      }
    },
    {
      "cell_type": "code",
      "source": [
        "for x in range(3):\n",
        "    print(\"x=\" + str(x))\n",
        "    if x == 1:\n",
        "        break  # quit from loop"
      ],
      "metadata": {
        "id": "yZhncL0-e_S8"
      },
      "execution_count": null,
      "outputs": []
    },
    {
      "cell_type": "markdown",
      "source": [
        "Use the **continue** keyword to skip the current iteration and continue with the next one."
      ],
      "metadata": {
        "id": "aQ1SVs9QfBxU"
      }
    },
    {
      "cell_type": "code",
      "source": [
        "for x in range(3, 0, -1):\n",
        "    if x % 2 == 0:\n",
        "        continue  # skip even\n",
        "    print(x)"
      ],
      "metadata": {
        "id": "GcQAu_j3fD0i"
      },
      "execution_count": null,
      "outputs": []
    },
    {
      "cell_type": "markdown",
      "source": [
        "# Python Data Structure\n"
      ],
      "metadata": {
        "id": "gxM1vNzdfonG"
      }
    },
    {
      "cell_type": "markdown",
      "source": [
        "## Strings\n",
        "* represent a piece of text\n",
        "* written between quotes, either single quotes, double quotes, or triple quotes\n",
        "* can be as short as zero characters (empty string) or significantly long\n",
        "* concatenation using plus sign (+)\n",
        "* the **len** function tells the number of characters contained in the string"
      ],
      "metadata": {
        "id": "3Ipz5vA1ftOF"
      }
    },
    {
      "cell_type": "code",
      "source": [
        "name = 'kcv'\n",
        "year = \"2024\"\n",
        "multi_line = \"\"\"hello,\n",
        "email test.\n",
        "signature.\"\"\"\n",
        "\n",
        "print(\"let's\\n\\\"\"+name+\"\\\"\")\n",
        "\n",
        "\n",
        "print(len(''))\n",
        "print(len(name)==3)"
      ],
      "metadata": {
        "colab": {
          "base_uri": "https://localhost:8080/"
        },
        "id": "pFynQgOdg97B",
        "outputId": "5bb31aa4-dc1d-4972-81fa-dd446fe3a3ce"
      },
      "execution_count": null,
      "outputs": [
        {
          "output_type": "stream",
          "name": "stdout",
          "text": [
            "let's\n",
            "\"kcv\"\n",
            "0\n",
            "True\n"
          ]
        }
      ]
    },
    {
      "cell_type": "markdown",
      "source": [
        "**To access substring, use index or slicing**\n",
        "* access index greater than its length - 1, triggers index out of range\n",
        "* negative indexes starts from behind\n"
      ],
      "metadata": {
        "id": "gzpLrQzghRWa"
      }
    },
    {
      "cell_type": "code",
      "source": [
        "name = 'informatika'\n",
        "print(name[1])\n",
        "print(name[len(name)-1])\n",
        "print(name[-1])\n",
        "print(name[-2])\n",
        "\n",
        "print(name[4:len(name)-1])\n",
        "\n",
        "print(name[:4])\n",
        "print(name[4:])"
      ],
      "metadata": {
        "id": "qs1g9SJ3hote"
      },
      "execution_count": null,
      "outputs": []
    },
    {
      "cell_type": "markdown",
      "source": [
        "**Strings in Python are immutable**\n",
        "* can't be modified, can’t change individual characters\n",
        "* to change string, replace it with the new string.\n",
        "* use in keyword to check if substring is a part of the string."
      ],
      "metadata": {
        "id": "_ETP5u8Fh70D"
      }
    },
    {
      "cell_type": "code",
      "source": [
        "year = \"it's 2024\"\n",
        "year[-1] = \"0\"  # TypeError"
      ],
      "metadata": {
        "id": "dPWxw-HhiQaf"
      },
      "execution_count": null,
      "outputs": []
    },
    {
      "cell_type": "markdown",
      "source": [
        "**Provide a bunch of methods for working with text**"
      ],
      "metadata": {
        "id": "p2f6XTrSiTRF"
      }
    },
    {
      "cell_type": "code",
      "source": [
        "program = 'kcv 2024'\n",
        "print(program.index('c'))\n",
        "\n",
        "print(program.upper())\n",
        "print(program.endswith('2024'))\n",
        "print(program.replace('2024', '2023'))\n",
        "\n",
        "year = 2024\n",
        "print(str(year).isnumeric())\n",
        "\n",
        "print(\"{} for {}\".format(\"kcv\", year))"
      ],
      "metadata": {
        "colab": {
          "base_uri": "https://localhost:8080/"
        },
        "id": "HMF-PW8EiWkb",
        "outputId": "bd4b1b2c-2be4-4935-e805-e51b86bb0a87"
      },
      "execution_count": null,
      "outputs": [
        {
          "output_type": "stream",
          "name": "stdout",
          "text": [
            "1\n",
            "KCV 2024\n",
            "True\n",
            "kcv 2023\n",
            "True\n",
            "kcv for 2024\n"
          ]
        }
      ]
    },
    {
      "cell_type": "markdown",
      "source": [
        "## List\n",
        "* is a mutable, ordered collection of items\n",
        "* can contain any type of data, such as integers, floats, strings, or even other lists\n",
        "* defined by enclosing elements in square brackets (`[]`) and separating them with commas\n",
        "* being ordered and can be accessed by their index\n",
        "* mutability allows adding, removing, or modifying elements in a list after its creation"
      ],
      "metadata": {
        "id": "mEfBjuwTWtMg"
      }
    },
    {
      "cell_type": "code",
      "source": [
        "# List of fruit names\n",
        "fruits = ['apple', 'banana', 'orange', 'grape', 'kiwi', 'mango', 'pineapple']\n",
        "print(fruits)\n",
        "print(type(fruits))"
      ],
      "metadata": {
        "id": "suyjyjGPXpIX"
      },
      "execution_count": null,
      "outputs": []
    },
    {
      "cell_type": "code",
      "source": [
        "# List with different data types\n",
        "mixed_list = [1, 2.5, \"apple\", True, [3, 4, 5]]\n",
        "\n",
        "# Accessing elements\n",
        "print(\"Element at index 2:\", mixed_list[2])  # Accessing a string\n",
        "print(\"Element at index 4:\", mixed_list[4])  # Accessing a nested list\n",
        "\n",
        "# Modifying the list\n",
        "mixed_list[1] = 10.5  # Modifying a float to an integer\n",
        "mixed_list.append(\"orange\")  # Adding a string to the end\n",
        "print(\"Modified list:\", mixed_list)"
      ],
      "metadata": {
        "id": "0pVVogdNX9nW"
      },
      "execution_count": null,
      "outputs": []
    },
    {
      "cell_type": "markdown",
      "source": [
        "* In Python, a list can be used to store more than one data type, creating a heterogeneous collection of elements. This flexibility allows a single list to hold elements of **different types**, such as integers, floats, strings, and more."
      ],
      "metadata": {
        "id": "hrASryXCZGdP"
      }
    },
    {
      "cell_type": "code",
      "source": [
        "# List with heterogeneous data types\n",
        "heterogeneous_list = [1, \"apple\", 3.14, True, [5, 6]]\n",
        "\n",
        "# Accessing elements\n",
        "print(\"Element at index 1:\", heterogeneous_list[1])  # Accessing a string\n",
        "print(\"Element at index 3:\", heterogeneous_list[3])  # Accessing a boolean\n",
        "\n",
        "# Modifying the list\n",
        "heterogeneous_list[0] = 10  # Modifying an integer\n",
        "heterogeneous_list.append(\"orange\")  # Adding a string to the end\n",
        "print(\"Modified list:\", heterogeneous_list)"
      ],
      "metadata": {
        "id": "J-Do8coaZHX_"
      },
      "execution_count": null,
      "outputs": []
    },
    {
      "cell_type": "markdown",
      "source": [
        "* In Python, a list can contain other lists as elements, creating a **nested or multidimensional list**. This allows for the creation of more complex data structures where each element can be a list itself."
      ],
      "metadata": {
        "id": "voKcdFnCZUc5"
      }
    },
    {
      "cell_type": "code",
      "source": [
        "# Nested lists\n",
        "outer_list = [1, 2, [3, 4, 5], \"apple\", [\"orange\", \"banana\"]]\n",
        "\n",
        "# Accessing elements\n",
        "print(\"Element at index 2:\", outer_list[2])  # Accessing a nested list\n",
        "print(\"Element at index 4:\", outer_list[4][1])  # Accessing an element in a nested list\n",
        "\n",
        "# Modifying the list\n",
        "outer_list[0] = 10  # Modifying an integer in the outer list\n",
        "outer_list[2][1] = 8  # Modifying an element in the nested list\n",
        "outer_list.append([\"grape\", \"kiwi\"])  # Adding a new nested list\n",
        "print(\"Modified list:\", outer_list)"
      ],
      "metadata": {
        "id": "0R5GdUCLZnqD"
      },
      "execution_count": null,
      "outputs": []
    },
    {
      "cell_type": "markdown",
      "source": [
        "* The ability to use nested lists in Python is highly beneficial when working with matrices or multidimensional arrays. Matrices can be represented as **lists of lists**, where each inner list corresponds to a row or column."
      ],
      "metadata": {
        "id": "T1B0RKeGZ0xS"
      }
    },
    {
      "cell_type": "code",
      "source": [
        "# Matrix represented using nested lists\n",
        "matrix = [\n",
        "    [1, 2, 3],\n",
        "    [4, 5, 6],\n",
        "    [7, 8, 9]\n",
        "]\n",
        "\n",
        "# Accessing elements\n",
        "print(\"Element at row 2, column 3:\", matrix[1][2])\n",
        "\n",
        "# Modifying the matrix\n",
        "matrix[0][1] = 10  # Modifying an element in the matrix\n",
        "matrix[2].append(10)  # Adding a new element to the end of the third row\n",
        "print(\"Modified matrix:\", matrix)"
      ],
      "metadata": {
        "id": "_t1R-JW7Z13m"
      },
      "execution_count": null,
      "outputs": []
    },
    {
      "cell_type": "markdown",
      "source": [
        "* In Python, the length of a list is determined by the number of elements it contains. The `len()` function is used to retrieve the length or the number of elements in a list."
      ],
      "metadata": {
        "id": "I5RxP6BuaGwT"
      }
    },
    {
      "cell_type": "code",
      "source": [
        "# List with elements\n",
        "fruits = [\"apple\", \"banana\", \"orange\", \"grape\"]\n",
        "\n",
        "# Displaying the length of the list\n",
        "length_of_fruits = len(fruits)\n",
        "print(\"Length of the list:\", length_of_fruits)"
      ],
      "metadata": {
        "id": "99b8ZQz6aHxp"
      },
      "execution_count": null,
      "outputs": []
    },
    {
      "cell_type": "markdown",
      "source": [
        "**Nested List**\n",
        "* In Python, nested lists are not restricted to having a perfect matrix-like structure. Lists can contain other lists of different sizes and even elements of different types. This flexibility allows the creation of irregular or jagged nested lists."
      ],
      "metadata": {
        "id": "SSoETWiSaNXZ"
      }
    },
    {
      "cell_type": "code",
      "source": [
        "# Irregular nested list\n",
        "irregular_list = [1, [2, 3], [4, 5, 6], \"apple\", [\"orange\", 8, 9]]\n",
        "\n",
        "# Accessing elements\n",
        "print(\"Element at index 2:\", irregular_list[2])  # Accessing a nested list\n",
        "print(\"Element at index 4, element 1:\", irregular_list[4][0])  # Accessing an element in a nested list\n",
        "\n",
        "# Modifying the list\n",
        "irregular_list[0] = 10  # Modifying an integer\n",
        "irregular_list[2][1] = 7  # Modifying an element in the nested list\n",
        "irregular_list.append([\"grape\", 10, \"kiwi\"])  # Adding a new nested list\n",
        "print(\"Modified list:\", irregular_list)"
      ],
      "metadata": {
        "id": "bKyqMSFRaQSY"
      },
      "execution_count": null,
      "outputs": []
    },
    {
      "cell_type": "markdown",
      "source": [
        "**Indexing:**\n",
        "- starts from 0, each element in the list has a unique index.\n",
        "- positive indexing refers to counting from the beginning of the list (starting with 0).\n",
        "- negative indexing refers to counting from the end of the list (starting with -1 for the last element).\n",
        "\n",
        "**Slicing:**\n",
        "- allows extracting a portion of a list, creating a new list\n",
        "- syntax: `list[start:stop:step]`, where `start` is the beginning index, `stop` is the ending index (exclusive), and `step` is the interval."
      ],
      "metadata": {
        "id": "HHiom280aZvO"
      }
    },
    {
      "cell_type": "code",
      "source": [
        "# List for indexing and slicing\n",
        "numbers = [0, 1, 2, 3, 4, 5, 6, 7, 8, 9]"
      ],
      "metadata": {
        "id": "nRFFoXB0azeQ"
      },
      "execution_count": null,
      "outputs": []
    },
    {
      "cell_type": "code",
      "source": [
        "# Indexing\n",
        "print(\"Element at index 3:\", numbers[3])       # Positive indexing\n",
        "print(\"Element at index -2:\", numbers[-2])     # Negative indexing"
      ],
      "metadata": {
        "id": "S4CQdsyza33r"
      },
      "execution_count": null,
      "outputs": []
    },
    {
      "cell_type": "code",
      "source": [
        "# Slicing\n",
        "print(\"Sliced elements:\", numbers[2:7])        # Elements from index 2 to 6\n",
        "print(\"Sliced with step:\", numbers[1:9:2])     # Elements from index 1 to 8 with a step of 2\n",
        "print(\"Sliced in reverse:\", numbers[::-1])     # All elements in reverse order"
      ],
      "metadata": {
        "id": "AvIcjfdKa79l"
      },
      "execution_count": null,
      "outputs": []
    },
    {
      "cell_type": "markdown",
      "source": [
        "**Manipulating Elements in a List**\n",
        "\n",
        "**Adding Elements:**\n",
        "- Elements can be added to the end of a list using the `append()` method.\n",
        "- Multiple elements can be added at once using the `extend()` method or the `+` operator.\n",
        "\n",
        "**Removing Elements:**\n",
        "- Elements can be removed by specifying the value using the `remove()` method.\n",
        "- The `pop()` method removes and returns the element at a specific index.\n",
        "- The `del` statement can be used to remove elements or slices based on index."
      ],
      "metadata": {
        "id": "mpg0ErrYbG3P"
      }
    },
    {
      "cell_type": "code",
      "source": [
        "# List for manipulation\n",
        "fruits = [\"apple\", \"banana\", \"orange\", \"grape\"]"
      ],
      "metadata": {
        "id": "wyFs6S1MbILp"
      },
      "execution_count": null,
      "outputs": []
    },
    {
      "cell_type": "code",
      "source": [
        "# Adding elements\n",
        "fruits.append(\"kiwi\")                 # Adding a single element\n",
        "fruits.extend([\"melon\", \"pineapple\"])  # Adding multiple elements\n",
        "fruits += [\"peach\", \"mango\"]           # Another way to add multiple elements\n",
        "\n",
        "# Displaying the modified list\n",
        "print(\"List after adding elements:\", fruits)"
      ],
      "metadata": {
        "id": "DBqogF40bKkS"
      },
      "execution_count": null,
      "outputs": []
    },
    {
      "cell_type": "code",
      "source": [
        "# Removing elements\n",
        "fruits.remove(\"banana\")        # Removing a specific element\n",
        "removed_element = fruits.pop(2) # Removing and returning element at index 2\n",
        "del fruits[0]                   # Removing element at index 0\n",
        "\n",
        "# Displaying the modified list\n",
        "print(\"List after removing elements:\", fruits)\n",
        "print(\"Removed element:\", removed_element)"
      ],
      "metadata": {
        "id": "oxWJflWvbMd8"
      },
      "execution_count": null,
      "outputs": []
    },
    {
      "cell_type": "markdown",
      "source": [
        "**Checking Elements in a List Using `in` and `not in` Operators:**\n",
        "- The `in` operator checks if an element exists in a list\n",
        "- The `not in` operator checks if an element does not exist in a list\n",
        "- Both operators return a boolean value"
      ],
      "metadata": {
        "id": "bZOdCx9tbShz"
      }
    },
    {
      "cell_type": "code",
      "source": [
        "# List for element checks\n",
        "colors = [\"red\", \"blue\", \"green\", \"yellow\", \"orange\"]"
      ],
      "metadata": {
        "id": "y6ok9pMLbU0R"
      },
      "execution_count": null,
      "outputs": []
    },
    {
      "cell_type": "code",
      "source": [
        "# Using 'in' operator\n",
        "print(\"Is 'blue' in the list?\", 'blue' in colors)\n",
        "print(\"Is 'purple' in the list?\", 'purple' in colors)"
      ],
      "metadata": {
        "id": "yLy9uRTxbW3U"
      },
      "execution_count": null,
      "outputs": []
    },
    {
      "cell_type": "code",
      "source": [
        "# Using 'not in' operator\n",
        "print(\"Is 'green' not in the list?\", 'green' not in colors)\n",
        "print(\"Is 'yellow' not in the list?\", 'yellow' not in colors)"
      ],
      "metadata": {
        "id": "p9YVhhrLbZOk"
      },
      "execution_count": null,
      "outputs": []
    },
    {
      "cell_type": "markdown",
      "source": [
        "**Searching for Elements in a List Using the `index()` Function:**\n",
        "- The `index()` function is used to find the index of a specific element in a list\n",
        "- If the element is found, the function returns the index of the first occurrence\n",
        "- If the element is not found, it raises a `ValueError`"
      ],
      "metadata": {
        "id": "fBbaDPk8bj9A"
      }
    },
    {
      "cell_type": "code",
      "source": [
        "# List for searching\n",
        "numbers = [10, 20, 30, 40, 50, 20, 60]\n",
        "\n",
        "# Using 'index()' function\n",
        "index_of_30 = numbers.index(30)\n",
        "print(\"Index of 30:\", index_of_30)\n",
        "\n",
        "# Trying to find the index of a non-existing element\n",
        "try:\n",
        "    index_of_70 = numbers.index(70)\n",
        "    print(\"Index of 70:\", index_of_70)\n",
        "except ValueError:\n",
        "    print(\"Element 70 not found in the list.\")"
      ],
      "metadata": {
        "colab": {
          "base_uri": "https://localhost:8080/"
        },
        "id": "H0sLhCYTblhZ",
        "outputId": "7fec401e-5cea-4e1e-e2c6-4daf7b4c1a15"
      },
      "execution_count": null,
      "outputs": [
        {
          "output_type": "stream",
          "name": "stdout",
          "text": [
            "Index of 30: 2\n",
            "Element 70 not found in the list.\n"
          ]
        }
      ]
    },
    {
      "cell_type": "markdown",
      "source": [
        "**Using the `sort()` Method:**\n",
        "- The `sort()` method is used to sort a list in-place, meaning it modifies the original list.\n",
        "- It arranges the elements in ascending order by default.\n",
        "- The `reverse` parameter can be set to `True` to sort in descending order.\n",
        "\n",
        "**Using the `sorted()` Function:**\n",
        "- The `sorted()` function creates a new sorted list from the elements of the original list.\n",
        "- It does not modify the original list.\n",
        "- Like `sort()`, the `reverse` parameter can be used to sort in descending order."
      ],
      "metadata": {
        "id": "_XXMZWWZbrZ6"
      }
    },
    {
      "cell_type": "code",
      "source": [
        "# List for sorting\n",
        "numbers = [40, 10, 30, 20, 50]\n",
        "\n",
        "# Using 'sort()' method\n",
        "numbers.sort()\n",
        "print(\"Sorted list using 'sort()':\", numbers)\n",
        "\n",
        "# Using 'sorted()' function\n",
        "sorted_numbers = sorted(numbers, reverse=True)\n",
        "print(\"Original list:\", numbers)\n",
        "print(\"Sorted list using 'sorted()':\", sorted_numbers)"
      ],
      "metadata": {
        "id": "EEgKm4P6br_0"
      },
      "execution_count": null,
      "outputs": []
    },
    {
      "cell_type": "markdown",
      "source": [
        "**Deleting Elements from a List**\n",
        "1. **Using the `del` Statement:**\n",
        "   - The `del` statement is used to remove elements from a list based on their index.\n",
        "   - It can also be used to delete the entire list or a slice of the list.\n",
        "\n",
        "2. **Using the `remove()` Method:**\n",
        "   - The `remove()` method is used to remove a specific element from the list.\n",
        "   - If the element appears multiple times, only the first occurrence is removed.\n",
        "   - If the element is not found, it raises a `ValueError`.\n",
        "\n",
        "3. **Using the `clear()` Method:**\n",
        "   - The `clear()` method is used to remove all elements from the list, making it empty."
      ],
      "metadata": {
        "id": "vuoQwiF3bxA9"
      }
    },
    {
      "cell_type": "code",
      "source": [
        "# List for deletion\n",
        "colors = [\"red\", \"green\", \"blue\", \"yellow\", \"green\"]"
      ],
      "metadata": {
        "id": "eqsFzCI3bxrm"
      },
      "execution_count": null,
      "outputs": []
    },
    {
      "cell_type": "code",
      "source": [
        "# Using 'del' statement\n",
        "del colors[2]  # Deleting element at index 2\n",
        "print(\"List after 'del' statement:\", colors)"
      ],
      "metadata": {
        "id": "Pb5Qgi5Ebz6B"
      },
      "execution_count": null,
      "outputs": []
    },
    {
      "cell_type": "code",
      "source": [
        "# Using 'remove()' method\n",
        "colors.remove(\"green\")  # Removing the first occurrence of \"green\"\n",
        "print(\"List after 'remove()' method:\", colors)"
      ],
      "metadata": {
        "id": "mysXQvgrb19b"
      },
      "execution_count": null,
      "outputs": []
    },
    {
      "cell_type": "code",
      "source": [
        "# Using 'clear()' method\n",
        "colors.clear()  # Removing all elements\n",
        "print(\"List after 'clear()' method:\", colors)"
      ],
      "metadata": {
        "id": "jnHTlPErb1bX"
      },
      "execution_count": null,
      "outputs": []
    },
    {
      "cell_type": "markdown",
      "source": [
        "**Copying a List Using the Assignment Operator (`=`):**\n",
        "- The assignment operator (`=`) can be used to create a copy of a list.\n",
        "- Changes made to the copy will affect the original list, and vice versa.\n",
        "\n",
        "**Using the `copy()` Method:**\n",
        "- The `copy()` method is specifically designed for creating a shallow copy of a list.\n",
        "- The copy created using `copy()` is independent of the original list, meaning changes to one do not affect the other.\n"
      ],
      "metadata": {
        "id": "5doM_VUrcBxF"
      }
    },
    {
      "cell_type": "code",
      "source": [
        "# Original list\n",
        "original_list = [1, 2, 3, 4, 5]\n",
        "\n",
        "# Using assignment operator to create a copy\n",
        "copied_list_1 = original_list\n",
        "\n",
        "# Using 'copy()' method to create a copy\n",
        "copied_list_2 = original_list.copy()\n",
        "\n",
        "# Modifying the copied lists\n",
        "copied_list_1[0] = 10\n",
        "copied_list_2[1] = 20\n",
        "\n",
        "# Displaying the results\n",
        "print(\"Original list:\", original_list)\n",
        "print(\"List copied with assignment operator:\", copied_list_1)\n",
        "print(\"List copied with 'copy()' method:\", copied_list_2)"
      ],
      "metadata": {
        "id": "DC4eoFGrcEOd"
      },
      "execution_count": null,
      "outputs": []
    },
    {
      "cell_type": "markdown",
      "source": [
        "**Unpacking a list**\n",
        "\n",
        "\n",
        "* allows to assign values to multiple variables at once based on the elements of the list.\n",
        "* a convenient way to assign values from a list to multiple variables, especially when the number of variables matches the number of elements in the list.\n",
        "\n"
      ],
      "metadata": {
        "id": "ilyMT-ZycLCL"
      }
    },
    {
      "cell_type": "code",
      "source": [
        "# List for unpacking\n",
        "student_info = [\"John Doe\", 20, \"Computer Science\"]\n",
        "\n",
        "# Unpacking the list into variables\n",
        "name, age, major = student_info\n",
        "\n",
        "# Displaying the unpacked values\n",
        "print(\"Name:\", name)\n",
        "print(\"Age:\", age)\n",
        "print(\"Major:\", major)"
      ],
      "metadata": {
        "id": "LjwadEnbcLlV"
      },
      "execution_count": null,
      "outputs": []
    },
    {
      "cell_type": "markdown",
      "source": [
        "## Tuple\n",
        "* created by providing identifiers and data, with each data separated by a comma (`,`)\n",
        "* can be enclosed in parentheses `()` for readability, although it's not mandatory\n",
        "* commonly used when you want to represent a collection of items that should remain constant throughout the program\n",
        "\n",
        "Key characteristics of tuples:\n",
        "- Immutable: Once a tuple is created, its elements cannot be changed or added.\n",
        "- Ordered: Elements in a tuple maintain the order of insertion.\n",
        "- Allows elements of different data types.\n",
        "- Can be nested, allowing the creation of more complex data structures."
      ],
      "metadata": {
        "id": "f1SDkCWEeKN6"
      }
    },
    {
      "cell_type": "code",
      "source": [
        "# Creating tuples\n",
        "fruits = 'apple', 'orange', 'banana', 'grape'\n",
        "numbers = 5, 10, 15, 20\n",
        "decimal_numbers = (2.5, -1.8, 4.7, 0.3)\n",
        "conditions = (False, True, True, False)\n",
        "\n",
        "# Displaying tuples\n",
        "print(fruits)\n",
        "print(numbers)\n",
        "print(decimal_numbers)\n",
        "print(conditions)"
      ],
      "metadata": {
        "id": "l19OJWr7ewLC"
      },
      "execution_count": null,
      "outputs": []
    },
    {
      "cell_type": "code",
      "source": [
        "# Checking the type of 'fruits'\n",
        "type(fruits)"
      ],
      "metadata": {
        "id": "0qtOVzWYe0Bz"
      },
      "execution_count": null,
      "outputs": []
    },
    {
      "cell_type": "markdown",
      "source": [
        "Tuples in Python can contain elements of different data types, and they can also include other tuples."
      ],
      "metadata": {
        "id": "-tQnyHoVe5Wx"
      }
    },
    {
      "cell_type": "code",
      "source": [
        "# Tuple with heterogeneous elements\n",
        "mixed_tuple = (1, \"two\", 3.0, True)\n",
        "\n",
        "# Nested tuple\n",
        "nested_tuple = ((1, 2), (\"a\", \"b\"))\n",
        "\n",
        "# Displaying tuples\n",
        "print(\"Mixed tuple:\", mixed_tuple)\n",
        "print(\"Nested tuple:\", nested_tuple)"
      ],
      "metadata": {
        "id": "FtRarhPqe54b"
      },
      "execution_count": null,
      "outputs": []
    },
    {
      "cell_type": "markdown",
      "source": [
        "**Converting List to Tuple and Vice Versa**\n",
        "- A list can be converted to a tuple using the tuple() function, and similarly, a tuple can be converted to a list using the list() function.\n",
        "- These conversions are useful when you need to switch between lists and tuples based on the requirements of your program."
      ],
      "metadata": {
        "id": "fQYGuN-_fEgH"
      }
    },
    {
      "cell_type": "code",
      "source": [
        "# Converting list to tuple\n",
        "numbers_list = [1, 2, 3, 4, 5]\n",
        "numbers_tuple = tuple(numbers_list)\n",
        "\n",
        "# Converting tuple to list\n",
        "fruits_tuple = ('apple', 'orange', 'banana', 'grape')\n",
        "fruits_list = list(fruits_tuple)\n",
        "\n",
        "# Displaying the results\n",
        "print(\"List to Tuple:\", numbers_tuple)\n",
        "print(\"Tuple to List:\", fruits_list)"
      ],
      "metadata": {
        "id": "n2b-daE8fJ_3"
      },
      "execution_count": null,
      "outputs": []
    },
    {
      "cell_type": "markdown",
      "source": [
        "**Tuple Indexing & Slicing:**\n",
        "\n",
        "- Indexing and slicing in tuples work similarly to lists.\n",
        "- Elements in a tuple can be accessed using their index, and slices can be taken to obtain sub-tuples."
      ],
      "metadata": {
        "id": "TWPM9Q2Pfshr"
      }
    },
    {
      "cell_type": "code",
      "source": [
        "# Tuple for indexing and slicing\n",
        "colors_tuple = (\"red\", \"green\", \"blue\", \"yellow\", \"purple\")\n",
        "\n",
        "# Indexing\n",
        "first_color = colors_tuple[0]\n",
        "last_color = colors_tuple[-1]\n",
        "\n",
        "# Slicing\n",
        "selected_colors = colors_tuple[1:4]  # Elements at index 1, 2, 3\n",
        "\n",
        "# Displaying the results\n",
        "print(\"First color:\", first_color)\n",
        "print(\"Last color:\", last_color)\n",
        "print(\"Selected colors:\", selected_colors)"
      ],
      "metadata": {
        "id": "XzKLudQDfw8n"
      },
      "execution_count": null,
      "outputs": []
    },
    {
      "cell_type": "markdown",
      "source": [
        "**Tuple Manipulation**\n",
        "- we can create a new tuple by combining or concatenating existing tuples with the desired modifications."
      ],
      "metadata": {
        "id": "ji6_tj-Ef3eq"
      }
    },
    {
      "cell_type": "code",
      "source": [
        "# Original tuple\n",
        "colors_tuple = (\"red\", \"green\", \"blue\", \"yellow\", \"purple\")\n",
        "\n",
        "# Attempting to modify an element (not possible, will raise a TypeError)\n",
        "# colors_tuple[1] = \"orange\"  # Uncommenting this line will raise a TypeError\n",
        "\n",
        "# Attempting to add an element (not possible, will raise a TypeError)\n",
        "# colors_tuple += (\"orange\",)  # Uncommenting this line will raise a TypeError\n",
        "\n",
        "# Attempting to delete an element (not possible, will raise a TypeError)\n",
        "# del colors_tuple[2]  # Uncommenting this line will raise a TypeError\n",
        "\n",
        "# Creating a new tuple with modifications\n",
        "modified_colors_tuple = colors_tuple + (\"orange\", \"pink\")\n",
        "\n",
        "# Displaying the results\n",
        "print(\"Original tuple:\", colors_tuple)\n",
        "print(\"Modified tuple:\", modified_colors_tuple)"
      ],
      "metadata": {
        "id": "AYZsLFQOgJis"
      },
      "execution_count": null,
      "outputs": []
    },
    {
      "cell_type": "markdown",
      "source": [
        "## Set\n",
        "* has a highly optimized method for checking whether a specific element is contained in the set, based on a data structure known as a hash table.\n",
        "* unordered, we cannot access items using indexes as we do in lists.\n",
        "* represented by `{ }`\n",
        "* unchangeable, but you can remove items and add new items.\n",
        "* duplicates Not allowed"
      ],
      "metadata": {
        "id": "XaMSqpYOhNdm"
      }
    },
    {
      "cell_type": "code",
      "source": [
        "# Define empty set\n",
        "\n",
        "# Dont do this\n",
        "learning_path = {}\n",
        "print(type(learning_path))\n",
        "\n",
        "learning_path = set()\n",
        "print(type(learning_path))"
      ],
      "metadata": {
        "id": "UJLyVZZyiQEl"
      },
      "execution_count": null,
      "outputs": []
    },
    {
      "cell_type": "code",
      "source": [
        "learning_path = {\"Machine Learning\",\n",
        "                 \"Cloud Computing\",\n",
        "                 \"Mobile Development\"}\n",
        "\n",
        "print(learning_path)\n",
        "\n",
        "# Adding elements\n",
        "learning_path.add(\"Data Scientist\")\n",
        "print(learning_path)"
      ],
      "metadata": {
        "id": "b-A1wC4biSV6"
      },
      "execution_count": null,
      "outputs": []
    },
    {
      "cell_type": "markdown",
      "source": [
        "**Union operation on Python Sets**\n",
        "\n",
        "- Two sets can be merged using union() function or | operator.\n",
        "- Both Hash Table values are accessed and traversed with merge operation perform on them to combine the elements, at the same time duplicates are removed."
      ],
      "metadata": {
        "id": "kJ9tINrliUw7"
      }
    },
    {
      "cell_type": "code",
      "source": [
        "learning_path = {\"Machine Learning\",\n",
        "                 \"Cloud Computing\",\n",
        "                 \"Mobile Development\"}\n",
        "job = {\"DevOps\",\n",
        "        \"Machine Learning\",\n",
        "        \"Fullstack Website\"}\n",
        "\n",
        "skills = learning_path.union(job)\n",
        "\n",
        "print(\"Union using union() function\")\n",
        "print(skills)\n",
        "\n",
        "skills = learning_path|job\n",
        "\n",
        "print(\"\\nUnion using '|' operator\")\n",
        "print(skills)"
      ],
      "metadata": {
        "id": "lvGGciYYiag7"
      },
      "execution_count": null,
      "outputs": []
    },
    {
      "cell_type": "markdown",
      "source": [
        "**Intersection operation on Python Sets**"
      ],
      "metadata": {
        "id": "w90VzmAWictU"
      }
    },
    {
      "cell_type": "code",
      "source": [
        "# Intersection using\n",
        "# intersection() function\n",
        "match_job = learning_path.intersection(job)\n",
        "\n",
        "print(\"Intersection using intersection() function\")\n",
        "print(match_job)\n",
        "\n",
        "# Intersection using\n",
        "# \"&\" operator\n",
        "match_job = learning_path & job\n",
        "\n",
        "print(\"\\nIntersection using '&' operator\")\n",
        "print(match_job)"
      ],
      "metadata": {
        "id": "2VeYvh0iife-"
      },
      "execution_count": null,
      "outputs": []
    },
    {
      "cell_type": "markdown",
      "source": [
        "**Finding Differences of Sets in Python**"
      ],
      "metadata": {
        "id": "v7-Y14YLiolW"
      }
    },
    {
      "cell_type": "code",
      "source": [
        "# Difference of two sets\n",
        "# using difference() function\n",
        "learning = learning_path.difference(job)\n",
        "\n",
        "print(\" Difference of two sets using difference() function\")\n",
        "print(learning)\n",
        "\n",
        "# Difference of two sets\n",
        "# using '-' operator\n",
        "learning = learning_path - job\n",
        "\n",
        "print(\"\\nDifference of two sets using '-' operator\")\n",
        "print(learning)"
      ],
      "metadata": {
        "id": "bnwOc7o3it6q"
      },
      "execution_count": null,
      "outputs": []
    },
    {
      "cell_type": "markdown",
      "source": [
        "**Clearing Python Sets**"
      ],
      "metadata": {
        "id": "1gmqOFR8iwke"
      }
    },
    {
      "cell_type": "code",
      "source": [
        "print(\"Initial set\")\n",
        "print(learning_path)\n",
        "\n",
        "# This method will remove\n",
        "# all the elements of the set\n",
        "learning_path.clear()\n",
        "\n",
        "print(\"\\nSet after using clear() function\")\n",
        "print(learning_path)"
      ],
      "metadata": {
        "id": "khpBDocOixBi"
      },
      "execution_count": null,
      "outputs": []
    },
    {
      "cell_type": "markdown",
      "source": [
        "## Dictionary\n",
        "* is a collection of key-value pairs, where each key must be unique.\n",
        "* defined using curly braces `{}` and consist of comma-separated key-value pairs.\n",
        "\n",
        "Key Characteristics of Dictionaries:\n",
        "\n",
        "- Unordered: Elements in a dictionary have no specific order.\n",
        "- Mutable: Elements of a dictionary can be added, modified, or removed after the dictionary is created.\n",
        "- Key-Value Pairs: Each element in a dictionary is a key-value pair."
      ],
      "metadata": {
        "id": "o1WewZpDi2SR"
      }
    },
    {
      "cell_type": "code",
      "source": [
        "# Creating a dictionary\n",
        "fruit_prices = {\"apple\": 1.00, \"orange\": 0.80, \"banana\": 0.50}\n",
        "\n",
        "# Displaying the dictionary\n",
        "print(\"Fruit Prices:\", fruit_prices)"
      ],
      "metadata": {
        "id": "zvBsKOcsjEjY"
      },
      "execution_count": null,
      "outputs": []
    },
    {
      "cell_type": "markdown",
      "source": [
        "**Common Dictionary Operations**\n",
        "\n",
        "- Accessing values: `dictionary[key]`\n",
        "- Adding a new key-value pair: `dictionary[key] = value`\n",
        "- Modifying a value: `dictionary[key] = new_value`\n",
        "- Removing a key-value pair: `del dictionary[key]`\n",
        "- Checking key existence: `key in dictionary`"
      ],
      "metadata": {
        "id": "FcDd5k-YjI9d"
      }
    },
    {
      "cell_type": "code",
      "source": [
        "# Dictionary operations\n",
        "student_info = {\"name\": \"John\",\n",
        "                \"age\": 20,\n",
        "                \"grade\": \"A\"}"
      ],
      "metadata": {
        "id": "KHxadmuDjNu6"
      },
      "execution_count": null,
      "outputs": []
    },
    {
      "cell_type": "code",
      "source": [
        "# Accessing values\n",
        "name = student_info[\"name\"]\n",
        "print(\"Name:\", name)"
      ],
      "metadata": {
        "id": "QtQJE0T3jPoQ"
      },
      "execution_count": null,
      "outputs": []
    },
    {
      "cell_type": "code",
      "source": [
        "# Adding a new key-value pair\n",
        "student_info[\"city\"] = \"New York\"\n",
        "print(student_info)"
      ],
      "metadata": {
        "id": "mGlhAPByjRzD"
      },
      "execution_count": null,
      "outputs": []
    },
    {
      "cell_type": "code",
      "source": [
        "# Modifying a value\n",
        "student_info[\"age\"] = 21\n",
        "print(student_info)"
      ],
      "metadata": {
        "id": "LuGKqdujjUYE"
      },
      "execution_count": null,
      "outputs": []
    },
    {
      "cell_type": "code",
      "source": [
        "# Removing a key-value pair\n",
        "del student_info[\"grade\"]\n",
        "print(student_info)"
      ],
      "metadata": {
        "id": "MjDhUVV1jXXR"
      },
      "execution_count": null,
      "outputs": []
    },
    {
      "cell_type": "code",
      "source": [
        "# Checking key existence\n",
        "has_grade = \"grade\" in student_info\n",
        "print(\"Has grade key?\", has_grade)"
      ],
      "metadata": {
        "id": "JRywrizjjZuI"
      },
      "execution_count": null,
      "outputs": []
    },
    {
      "cell_type": "code",
      "source": [
        "# Displaying the updated dictionary\n",
        "print(\"Updated Student Info:\", student_info)"
      ],
      "metadata": {
        "id": "nt7CEiKDjbtT"
      },
      "execution_count": null,
      "outputs": []
    },
    {
      "cell_type": "markdown",
      "source": [
        "**Dictionary with Homogeneous Data**"
      ],
      "metadata": {
        "id": "iEblQ94GjdgS"
      }
    },
    {
      "cell_type": "code",
      "source": [
        "# Dictionary with homogeneous data (mixed types)\n",
        "person_info = {\n",
        "    \"name\": \"John Doe\",\n",
        "    \"age\": 30,\n",
        "    \"address\": {\n",
        "        \"street\": \"123 Main St\",\n",
        "        \"city\": \"Anytown\",\n",
        "        \"zipcode\": \"12345\"\n",
        "    },\n",
        "    \"contacts\": {\n",
        "        \"email\": \"john@example.com\",\n",
        "        \"phone\": {\n",
        "            \"home\": \"555-1234\",\n",
        "            \"work\": \"555-5678\"\n",
        "        }\n",
        "    },\n",
        "    \"is_student\": False\n",
        "}\n",
        "\n",
        "# Displaying the complex dictionary with homogeneous data\n",
        "print(\"Person Information:\")\n",
        "print(\"Name:\", person_info[\"name\"])\n",
        "print(\"Age:\", person_info[\"age\"])\n",
        "print(\"Address:\", person_info[\"address\"])\n",
        "print(\"Email:\", person_info[\"contacts\"][\"email\"])\n",
        "print(\"Home Phone:\", person_info[\"contacts\"][\"phone\"][\"home\"])\n",
        "print(\"Is Student?\", person_info[\"is_student\"])"
      ],
      "metadata": {
        "id": "K1Aj_APOjoag"
      },
      "execution_count": null,
      "outputs": []
    },
    {
      "cell_type": "markdown",
      "source": [
        "**Using keys`()`, values`()`, and items`()` Functions in a Dictionary:**\n",
        "\n",
        "To examine data within a dictionary, we can use the functions `keys()`, `values()`, and `items()`.\n",
        "\n",
        "- `keys()`: Used to retrieve all keys in the dictionary.\n",
        "- `values()`: Used to retrieve all values (items) in the dictionary.\n",
        "- `items()`: Used to retrieve all key-value pairs in the dictionary."
      ],
      "metadata": {
        "id": "2weXe3SKju6D"
      }
    },
    {
      "cell_type": "code",
      "source": [
        "# Sample dictionary\n",
        "person_info = {\n",
        "    \"name\": \"John Doe\",\n",
        "    \"age\": 30,\n",
        "    \"address\": {\n",
        "        \"street\": \"123 Main St\",\n",
        "        \"city\": \"Anytown\",\n",
        "        \"zipcode\": \"12345\"\n",
        "    },\n",
        "    \"contacts\": {\n",
        "        \"email\": \"john@example.com\",\n",
        "        \"phone\": {\n",
        "            \"home\": \"555-1234\",\n",
        "            \"work\": \"555-5678\"\n",
        "        }\n",
        "    },\n",
        "    \"is_student\": False\n",
        "}"
      ],
      "metadata": {
        "id": "qrLyNAx9jxT4"
      },
      "execution_count": null,
      "outputs": []
    },
    {
      "cell_type": "code",
      "source": [
        "# Using keys() to get all keys\n",
        "keys_list = person_info.keys()\n",
        "print(\"Keys:\", keys_list)"
      ],
      "metadata": {
        "id": "E0RICiXbjx6i"
      },
      "execution_count": null,
      "outputs": []
    },
    {
      "cell_type": "code",
      "source": [
        "# Using values() to get all values\n",
        "values_list = person_info.values()\n",
        "print(\"Values:\", values_list)"
      ],
      "metadata": {
        "id": "fa9fxTzLj0Fn"
      },
      "execution_count": null,
      "outputs": []
    },
    {
      "cell_type": "code",
      "source": [
        "# Using items() to get all key-value pairs\n",
        "items_list = person_info.items()\n",
        "print(\"Items:\", items_list)"
      ],
      "metadata": {
        "id": "5GvGYcsEj1w0"
      },
      "execution_count": null,
      "outputs": []
    },
    {
      "cell_type": "markdown",
      "source": [
        "**Accessing Dictionary Values**\n",
        "- The `in` and `not in` operators can be used to check whether a specific key or value exists in a dictionary or not.\n"
      ],
      "metadata": {
        "id": "0zl0S64ek3o_"
      }
    },
    {
      "cell_type": "code",
      "source": [
        "# Sample dictionary\n",
        "fruit_prices = {\"apple\": 1.00, \"orange\": 0.80, \"banana\": 0.50, \"kiwi\": 1.20}"
      ],
      "metadata": {
        "id": "e050m377k9uz"
      },
      "execution_count": null,
      "outputs": []
    },
    {
      "cell_type": "code",
      "source": [
        "# Using in to check if a key exists\n",
        "has_banana = \"banana\" in fruit_prices\n",
        "print(\"Has Banana Key?\", has_banana)"
      ],
      "metadata": {
        "id": "15tyBrBclAZH"
      },
      "execution_count": null,
      "outputs": []
    },
    {
      "cell_type": "code",
      "source": [
        "# Using not in to check if a key doesn't exist\n",
        "has_grape = \"grape\" not in fruit_prices\n",
        "print(\"Has Grape Key?\", has_grape)"
      ],
      "metadata": {
        "id": "tF9SpqW3lB9e"
      },
      "execution_count": null,
      "outputs": []
    },
    {
      "cell_type": "code",
      "source": [
        "# Using in to check if a value exists\n",
        "has_price_80 = 0.80 in fruit_prices.values()\n",
        "print(\"Has Price 0.80?\", has_price_80)"
      ],
      "metadata": {
        "id": "bTGCe_q6lD4U"
      },
      "execution_count": null,
      "outputs": []
    },
    {
      "cell_type": "code",
      "source": [
        "# Using not in to check if a value doesn't exist\n",
        "has_price_1 = 1.00 not in fruit_prices.values()\n",
        "print(\"Has Price 1.00?\", has_price_1)"
      ],
      "metadata": {
        "id": "sUW0P9filFkJ"
      },
      "execution_count": null,
      "outputs": []
    },
    {
      "cell_type": "markdown",
      "source": [
        "**Accessing Dictionary Values by Key**\n",
        "- Similar to lists, accessing values (items) in a dictionary can be done using an index. However, dictionaries use keys as indices.\n",
        "- To access a value in a dictionary, simply mention the key within square brackets `[]`.\n"
      ],
      "metadata": {
        "id": "iUPGmrEvlHg8"
      }
    },
    {
      "cell_type": "code",
      "source": [
        "# Sample dictionary\n",
        "fruit_prices = {\"apple\": 1.00, \"orange\": 0.80, \"banana\": 0.50, \"kiwi\": 1.20}"
      ],
      "metadata": {
        "id": "g0_X4g9ilV7M"
      },
      "execution_count": null,
      "outputs": []
    },
    {
      "cell_type": "code",
      "source": [
        "# Accessing values by key\n",
        "apple_price = fruit_prices[\"apple\"]\n",
        "banana_price = fruit_prices[\"banana\"]"
      ],
      "metadata": {
        "id": "uphErQ8JlX2z"
      },
      "execution_count": null,
      "outputs": []
    },
    {
      "cell_type": "code",
      "source": [
        "# Displaying the accessed values\n",
        "print(\"Price of Apple:\", apple_price)\n",
        "print(\"Price of Banana:\", banana_price)"
      ],
      "metadata": {
        "id": "iFRgTiRAlYY7"
      },
      "execution_count": null,
      "outputs": []
    },
    {
      "cell_type": "markdown",
      "source": [
        "**Manipulating Data in a Dictionary**\n",
        "- Data in a dictionary can be added by providing new key-value pairs to the dictionary.\n",
        "\n",
        "There are three methods that can be used to remove specific data from the dictionary:\n",
        "\n",
        "1. **`del`**: Used to delete an element based on the key.\n",
        "2. **`pop()`**: Used to delete an element based on the key and returns the deleted value.\n",
        "3. **`clear()`**: Used to delete all elements in the dictionary."
      ],
      "metadata": {
        "id": "mWFTCDIMldXv"
      }
    },
    {
      "cell_type": "code",
      "source": [
        "# Sample dictionary\n",
        "student_info = {\"name\": \"Alice\", \"age\": 25, \"grade\": \"B\", \"is_student\": True}"
      ],
      "metadata": {
        "id": "EdNwW7nVlkq_"
      },
      "execution_count": null,
      "outputs": []
    },
    {
      "cell_type": "code",
      "source": [
        "# Adding a new key-value pair\n",
        "student_info[\"city\"] = \"Wonderland\"\n",
        "print(student_info)"
      ],
      "metadata": {
        "id": "0EddfyX2lnOj"
      },
      "execution_count": null,
      "outputs": []
    },
    {
      "cell_type": "code",
      "source": [
        "# Deleting an element using del\n",
        "del student_info[\"grade\"]\n",
        "print(\"After Deletion (del):\", student_info)"
      ],
      "metadata": {
        "id": "6-uS8V0ulpCK"
      },
      "execution_count": null,
      "outputs": []
    },
    {
      "cell_type": "code",
      "source": [
        "# Deleting and returning a value using pop()\n",
        "removed_age = student_info.pop(\"age\")\n",
        "print(\"Removed Age (pop()):\", removed_age)\n",
        "print(\"After Deletion (pop()):\", student_info)"
      ],
      "metadata": {
        "id": "wb3NMiDqlqwL"
      },
      "execution_count": null,
      "outputs": []
    },
    {
      "cell_type": "code",
      "source": [
        "# Clearing all elements using clear()\n",
        "student_info.clear()\n",
        "print(\"After Clearing (clear()):\", student_info)"
      ],
      "metadata": {
        "id": "_Q0NRacJlsb7"
      },
      "execution_count": null,
      "outputs": []
    },
    {
      "cell_type": "markdown",
      "source": [
        "# Most Used Libraries in Python"
      ],
      "metadata": {
        "id": "c-Rsjgsr06wx"
      }
    },
    {
      "cell_type": "markdown",
      "source": [
        "## NumPy\n",
        "* short for numerical Python\n",
        "* powerful for creating and manipulating multi-dimensional arrays (matrices or tensors)\n",
        "* accelerating numerical computation processes\n",
        "* comes with many built-in functions that allow us to perform various mathematical operations\n",
        "*  widely used as a fundamental component in many other popular libraries, such as pandas, SciPy, and more\n",
        "\n",
        "![dos_3135440d17ba9cce23a72741b6ae7a3d20230124151457.png](data:image/png;base64,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)"
      ],
      "metadata": {
        "id": "KtH2j7kj09XL"
      }
    },
    {
      "cell_type": "code",
      "source": [
        "import numpy as np\n",
        "array_1 = np.array([2, 3, 6, 5])\n",
        "array_1"
      ],
      "metadata": {
        "colab": {
          "base_uri": "https://localhost:8080/"
        },
        "id": "GEVQ9n422lzF",
        "outputId": "51c670a6-36f6-4c46-ca86-8e0b46daa9d4"
      },
      "execution_count": null,
      "outputs": [
        {
          "output_type": "execute_result",
          "data": {
            "text/plain": [
              "array([2, 3, 6, 5])"
            ]
          },
          "metadata": {},
          "execution_count": 3
        }
      ]
    },
    {
      "cell_type": "markdown",
      "source": [
        "## Pandas\n",
        "* specifically used for data manipulation and analysis\n",
        "* provides a data structure called DataFrame, a table-like data structure consisting of headers, indices, columns, and rows\n",
        "* also provides a set of functions and methods for more effective data manipulation and analysis\n",
        "\n",
        "![dos_02230781d06277246dbb42ac89c963fb20230124151812.png](data:image/png;base64,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)"
      ],
      "metadata": {
        "id": "py_YynKe3WrT"
      }
    },
    {
      "cell_type": "code",
      "source": [
        "import pandas as pd\n",
        "data = {\n",
        "    'Name': ['Lulu', 'Lala', 'Lili'],\n",
        "    'Age': [23, 45, 46]\n",
        "}\n",
        "\n",
        "df = pd.DataFrame(data)\n",
        "df"
      ],
      "metadata": {
        "colab": {
          "base_uri": "https://localhost:8080/",
          "height": 143
        },
        "id": "8wiZbi0a4hzb",
        "outputId": "27fc047e-32e9-421e-885a-94151fde98f1"
      },
      "execution_count": null,
      "outputs": [
        {
          "output_type": "execute_result",
          "data": {
            "text/plain": [
              "   Name  Age\n",
              "0  Lulu   23\n",
              "1  Lala   45\n",
              "2  Lili   46"
            ],
            "text/html": [
              "\n",
              "  <div id=\"df-18d9ec6f-49f2-4409-b88a-721f81454447\" class=\"colab-df-container\">\n",
              "    <div>\n",
              "<style scoped>\n",
              "    .dataframe tbody tr th:only-of-type {\n",
              "        vertical-align: middle;\n",
              "    }\n",
              "\n",
              "    .dataframe tbody tr th {\n",
              "        vertical-align: top;\n",
              "    }\n",
              "\n",
              "    .dataframe thead th {\n",
              "        text-align: right;\n",
              "    }\n",
              "</style>\n",
              "<table border=\"1\" class=\"dataframe\">\n",
              "  <thead>\n",
              "    <tr style=\"text-align: right;\">\n",
              "      <th></th>\n",
              "      <th>Name</th>\n",
              "      <th>Age</th>\n",
              "    </tr>\n",
              "  </thead>\n",
              "  <tbody>\n",
              "    <tr>\n",
              "      <th>0</th>\n",
              "      <td>Lulu</td>\n",
              "      <td>23</td>\n",
              "    </tr>\n",
              "    <tr>\n",
              "      <th>1</th>\n",
              "      <td>Lala</td>\n",
              "      <td>45</td>\n",
              "    </tr>\n",
              "    <tr>\n",
              "      <th>2</th>\n",
              "      <td>Lili</td>\n",
              "      <td>46</td>\n",
              "    </tr>\n",
              "  </tbody>\n",
              "</table>\n",
              "</div>\n",
              "    <div class=\"colab-df-buttons\">\n",
              "\n",
              "  <div class=\"colab-df-container\">\n",
              "    <button class=\"colab-df-convert\" onclick=\"convertToInteractive('df-18d9ec6f-49f2-4409-b88a-721f81454447')\"\n",
              "            title=\"Convert this dataframe to an interactive table.\"\n",
              "            style=\"display:none;\">\n",
              "\n",
              "  <svg xmlns=\"http://www.w3.org/2000/svg\" height=\"24px\" viewBox=\"0 -960 960 960\">\n",
              "    <path d=\"M120-120v-720h720v720H120Zm60-500h600v-160H180v160Zm220 220h160v-160H400v160Zm0 220h160v-160H400v160ZM180-400h160v-160H180v160Zm440 0h160v-160H620v160ZM180-180h160v-160H180v160Zm440 0h160v-160H620v160Z\"/>\n",
              "  </svg>\n",
              "    </button>\n",
              "\n",
              "  <style>\n",
              "    .colab-df-container {\n",
              "      display:flex;\n",
              "      gap: 12px;\n",
              "    }\n",
              "\n",
              "    .colab-df-convert {\n",
              "      background-color: #E8F0FE;\n",
              "      border: none;\n",
              "      border-radius: 50%;\n",
              "      cursor: pointer;\n",
              "      display: none;\n",
              "      fill: #1967D2;\n",
              "      height: 32px;\n",
              "      padding: 0 0 0 0;\n",
              "      width: 32px;\n",
              "    }\n",
              "\n",
              "    .colab-df-convert:hover {\n",
              "      background-color: #E2EBFA;\n",
              "      box-shadow: 0px 1px 2px rgba(60, 64, 67, 0.3), 0px 1px 3px 1px rgba(60, 64, 67, 0.15);\n",
              "      fill: #174EA6;\n",
              "    }\n",
              "\n",
              "    .colab-df-buttons div {\n",
              "      margin-bottom: 4px;\n",
              "    }\n",
              "\n",
              "    [theme=dark] .colab-df-convert {\n",
              "      background-color: #3B4455;\n",
              "      fill: #D2E3FC;\n",
              "    }\n",
              "\n",
              "    [theme=dark] .colab-df-convert:hover {\n",
              "      background-color: #434B5C;\n",
              "      box-shadow: 0px 1px 3px 1px rgba(0, 0, 0, 0.15);\n",
              "      filter: drop-shadow(0px 1px 2px rgba(0, 0, 0, 0.3));\n",
              "      fill: #FFFFFF;\n",
              "    }\n",
              "  </style>\n",
              "\n",
              "    <script>\n",
              "      const buttonEl =\n",
              "        document.querySelector('#df-18d9ec6f-49f2-4409-b88a-721f81454447 button.colab-df-convert');\n",
              "      buttonEl.style.display =\n",
              "        google.colab.kernel.accessAllowed ? 'block' : 'none';\n",
              "\n",
              "      async function convertToInteractive(key) {\n",
              "        const element = document.querySelector('#df-18d9ec6f-49f2-4409-b88a-721f81454447');\n",
              "        const dataTable =\n",
              "          await google.colab.kernel.invokeFunction('convertToInteractive',\n",
              "                                                    [key], {});\n",
              "        if (!dataTable) return;\n",
              "\n",
              "        const docLinkHtml = 'Like what you see? Visit the ' +\n",
              "          '<a target=\"_blank\" href=https://colab.research.google.com/notebooks/data_table.ipynb>data table notebook</a>'\n",
              "          + ' to learn more about interactive tables.';\n",
              "        element.innerHTML = '';\n",
              "        dataTable['output_type'] = 'display_data';\n",
              "        await google.colab.output.renderOutput(dataTable, element);\n",
              "        const docLink = document.createElement('div');\n",
              "        docLink.innerHTML = docLinkHtml;\n",
              "        element.appendChild(docLink);\n",
              "      }\n",
              "    </script>\n",
              "  </div>\n",
              "\n",
              "\n",
              "<div id=\"df-818082ff-d9c1-49c1-a3f4-bf4834ab9bc2\">\n",
              "  <button class=\"colab-df-quickchart\" onclick=\"quickchart('df-818082ff-d9c1-49c1-a3f4-bf4834ab9bc2')\"\n",
              "            title=\"Suggest charts\"\n",
              "            style=\"display:none;\">\n",
              "\n",
              "<svg xmlns=\"http://www.w3.org/2000/svg\" height=\"24px\"viewBox=\"0 0 24 24\"\n",
              "     width=\"24px\">\n",
              "    <g>\n",
              "        <path d=\"M19 3H5c-1.1 0-2 .9-2 2v14c0 1.1.9 2 2 2h14c1.1 0 2-.9 2-2V5c0-1.1-.9-2-2-2zM9 17H7v-7h2v7zm4 0h-2V7h2v10zm4 0h-2v-4h2v4z\"/>\n",
              "    </g>\n",
              "</svg>\n",
              "  </button>\n",
              "\n",
              "<style>\n",
              "  .colab-df-quickchart {\n",
              "      --bg-color: #E8F0FE;\n",
              "      --fill-color: #1967D2;\n",
              "      --hover-bg-color: #E2EBFA;\n",
              "      --hover-fill-color: #174EA6;\n",
              "      --disabled-fill-color: #AAA;\n",
              "      --disabled-bg-color: #DDD;\n",
              "  }\n",
              "\n",
              "  [theme=dark] .colab-df-quickchart {\n",
              "      --bg-color: #3B4455;\n",
              "      --fill-color: #D2E3FC;\n",
              "      --hover-bg-color: #434B5C;\n",
              "      --hover-fill-color: #FFFFFF;\n",
              "      --disabled-bg-color: #3B4455;\n",
              "      --disabled-fill-color: #666;\n",
              "  }\n",
              "\n",
              "  .colab-df-quickchart {\n",
              "    background-color: var(--bg-color);\n",
              "    border: none;\n",
              "    border-radius: 50%;\n",
              "    cursor: pointer;\n",
              "    display: none;\n",
              "    fill: var(--fill-color);\n",
              "    height: 32px;\n",
              "    padding: 0;\n",
              "    width: 32px;\n",
              "  }\n",
              "\n",
              "  .colab-df-quickchart:hover {\n",
              "    background-color: var(--hover-bg-color);\n",
              "    box-shadow: 0 1px 2px rgba(60, 64, 67, 0.3), 0 1px 3px 1px rgba(60, 64, 67, 0.15);\n",
              "    fill: var(--button-hover-fill-color);\n",
              "  }\n",
              "\n",
              "  .colab-df-quickchart-complete:disabled,\n",
              "  .colab-df-quickchart-complete:disabled:hover {\n",
              "    background-color: var(--disabled-bg-color);\n",
              "    fill: var(--disabled-fill-color);\n",
              "    box-shadow: none;\n",
              "  }\n",
              "\n",
              "  .colab-df-spinner {\n",
              "    border: 2px solid var(--fill-color);\n",
              "    border-color: transparent;\n",
              "    border-bottom-color: var(--fill-color);\n",
              "    animation:\n",
              "      spin 1s steps(1) infinite;\n",
              "  }\n",
              "\n",
              "  @keyframes spin {\n",
              "    0% {\n",
              "      border-color: transparent;\n",
              "      border-bottom-color: var(--fill-color);\n",
              "      border-left-color: var(--fill-color);\n",
              "    }\n",
              "    20% {\n",
              "      border-color: transparent;\n",
              "      border-left-color: var(--fill-color);\n",
              "      border-top-color: var(--fill-color);\n",
              "    }\n",
              "    30% {\n",
              "      border-color: transparent;\n",
              "      border-left-color: var(--fill-color);\n",
              "      border-top-color: var(--fill-color);\n",
              "      border-right-color: var(--fill-color);\n",
              "    }\n",
              "    40% {\n",
              "      border-color: transparent;\n",
              "      border-right-color: var(--fill-color);\n",
              "      border-top-color: var(--fill-color);\n",
              "    }\n",
              "    60% {\n",
              "      border-color: transparent;\n",
              "      border-right-color: var(--fill-color);\n",
              "    }\n",
              "    80% {\n",
              "      border-color: transparent;\n",
              "      border-right-color: var(--fill-color);\n",
              "      border-bottom-color: var(--fill-color);\n",
              "    }\n",
              "    90% {\n",
              "      border-color: transparent;\n",
              "      border-bottom-color: var(--fill-color);\n",
              "    }\n",
              "  }\n",
              "</style>\n",
              "\n",
              "  <script>\n",
              "    async function quickchart(key) {\n",
              "      const quickchartButtonEl =\n",
              "        document.querySelector('#' + key + ' button');\n",
              "      quickchartButtonEl.disabled = true;  // To prevent multiple clicks.\n",
              "      quickchartButtonEl.classList.add('colab-df-spinner');\n",
              "      try {\n",
              "        const charts = await google.colab.kernel.invokeFunction(\n",
              "            'suggestCharts', [key], {});\n",
              "      } catch (error) {\n",
              "        console.error('Error during call to suggestCharts:', error);\n",
              "      }\n",
              "      quickchartButtonEl.classList.remove('colab-df-spinner');\n",
              "      quickchartButtonEl.classList.add('colab-df-quickchart-complete');\n",
              "    }\n",
              "    (() => {\n",
              "      let quickchartButtonEl =\n",
              "        document.querySelector('#df-818082ff-d9c1-49c1-a3f4-bf4834ab9bc2 button');\n",
              "      quickchartButtonEl.style.display =\n",
              "        google.colab.kernel.accessAllowed ? 'block' : 'none';\n",
              "    })();\n",
              "  </script>\n",
              "</div>\n",
              "    </div>\n",
              "  </div>\n"
            ],
            "application/vnd.google.colaboratory.intrinsic+json": {
              "type": "dataframe",
              "variable_name": "df",
              "summary": "{\n  \"name\": \"df\",\n  \"rows\": 3,\n  \"fields\": [\n    {\n      \"column\": \"Name\",\n      \"properties\": {\n        \"dtype\": \"string\",\n        \"num_unique_values\": 3,\n        \"samples\": [\n          \"Lulu\",\n          \"Lala\",\n          \"Lili\"\n        ],\n        \"semantic_type\": \"\",\n        \"description\": \"\"\n      }\n    },\n    {\n      \"column\": \"Age\",\n      \"properties\": {\n        \"dtype\": \"number\",\n        \"std\": 13,\n        \"min\": 23,\n        \"max\": 46,\n        \"num_unique_values\": 3,\n        \"samples\": [\n          23,\n          45,\n          46\n        ],\n        \"semantic_type\": \"\",\n        \"description\": \"\"\n      }\n    }\n  ]\n}"
            }
          },
          "metadata": {},
          "execution_count": 2
        }
      ]
    },
    {
      "cell_type": "markdown",
      "source": [
        "## SciPy\n",
        "* short for Scientific Python\n",
        "* specifically used for scientific computing needs\n",
        "* utilizes NumPy as its fundamental component in every computational calculation\n",
        "* provides many functions that can be used to solve complex mathematical operations used in the fields of science and engineering\n",
        "* also offers many statistical operations to help us identify statistical parameters from a dataset\n",
        "\n",
        "\n",
        "\n"
      ],
      "metadata": {
        "id": "GlNCVJ2G4nkx"
      }
    },
    {
      "cell_type": "markdown",
      "source": [],
      "metadata": {
        "id": "16S6NcAd9apu"
      }
    },
    {
      "cell_type": "markdown",
      "source": [
        "## Matplotlib\n",
        "* support data visualization needs\n",
        "* provides many objects and methods that allow us to create static, animated, and interactive data visualizations\n",
        "* has a submodule called matplotlib.pyplot (plt), provides a function to create a figure, which is an empty canvas for creating data visualizations, and also provides many functions to define various types of data visualizations along with their decorations, such as labels, titles, etc.\n",
        "* enables us to save the created data visualizations in various storage formats, such as PNG, JPEG, PDF, etc."
      ],
      "metadata": {
        "id": "2jxEDKiY5Szs"
      }
    },
    {
      "cell_type": "markdown",
      "source": [
        "![dos_b2ad319817fba97385164599a6a35d4720230124160839.png](data:image/png;base64,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)"
      ],
      "metadata": {
        "id": "RUT1CsiC81Nn"
      }
    },
    {
      "cell_type": "markdown",
      "source": [
        "## Seaborn\n",
        "* designed to create attractive and informative data visualizations\n",
        "* utilizes Matplotlib to display data visualization graphs"
      ],
      "metadata": {
        "id": "s17vEnGF7fyL"
      }
    },
    {
      "cell_type": "markdown",
      "source": [
        "![dos_23c0d11173a9fa96c3562c67e92c6a2420230124161440.png](data:image/png;base64,iVBORw0KGgoAAAANSUhEUgAAANMAAAD+CAYAAACgNTAxAAAgAElEQVR4nOy9eXRb533n/XnuvdgBYiG4i5REaqNkW7LlTV4SxrZsNW1TJ9OmmWnSOO0snfS8M543sSdn3s4Zv11mMmm6TaaZc3Lec9x0Mp13mjRO3k5jOXYbJ7GteJMs2VptihQpEVwAAiB24N77vH9cAARIUKJNUCu+/4jLxXMvqOeL3+/3/S0PtNBCCy200EILLbTQQgsttNBCCy200EILLbTQQgsttNBCCy200EILLVzrEFf6AVqwMDLyeMDmsu1e+nMpxUjlayHki0t/X8qVjr744p8m1vv5Wrg0WmS6TBg58KVNNmFsNE32CCECIEdAbAN6m3ibKZBnQLwopUwoCm+VpHruxYNfHm/iPVpYAS0yrQNGDnxpk4r5YZAjAu4EsbP+CpmXCKcAJEv/EyQSUf2ZogjpdNjMfKGkmKYUVF9T/8rKd+Xf5UE4l9zzhITXQLxooPy4RbDmo0WmJqCePOJhKtZGSh3QpBDVja4KpBQCWSZGBYObe6SqKjiddsqXs/uWoWX3OnpstLw0Mp8vYhgmZ8cidWsJRUghJYZEVAkmJYCOEFr5simJ/GGLXM1Di0wfEA898sVfkkI8uhJ5AFRFyIo1CQS89G/okFuGekV3V4ihoR66ukJ0dwWb9kzTM3FmZuYZHY0wPTPPe6NTcvL8nEgk0oBl5Yzy86xELiHl91547qvfb9pD3UBokel9YP/+J/ZIRXxWCvmbAuFDSgNQa8iDaUqcDju33bqF3bcMsfuWQYaGmhkWfTCMjk5x9NhZjh4b5fCR98gXiiiKwDAlUCWXgRAqMIXkr4Upv/n883/41pV87msJLTJdAiMHvrRJlcYvIcQXBWyQSF1Iy/poqiINwxRXI3kuhUbkUlVF6oYphJRIgS4QmoTzSPlVQ6jfb7mCF0eLTCvgwQNPflYgvwDiZiQGSBUBiqJI05Sivb2Njx64k3v37boqyaObBnldx2t3rOr60dEpXj50nB8cfI1YbAGhCClN09I5EAYCFeTbEvFHf3/wK99c14e/RtEi0xI8eODJzwK/L2ADUiKFQBVIUyJcTjsHHrmDR/bfflUSCKBkGown5hlbmMcwTUIuNztD3fgcqyMVWMT6m++9xEsvvU0uX0QRSEMihJQgBBLOA7/TIlU9WmTCSphqTvu/lsgvCITP0r9AURRMU7L/ob3cu28X996za92eoWQaTCwkyBQLbA6041tiUdKlIl6bve5n5xbinEvGEAiGgh30etsYX5jnrZkLddf1eHzc1bvpAz3Xy68c5+VDx3n+hTdRFIFpmuXfCIAp4Bt6vvhnrcTxDU6mKokkXxTglAINrD9Ke3sbn/xHH+bh/Xvxel3r/izTmQV+NnUOgB63j7v6rM2vmwbvRKeZzizg0mwMt3fT6fYysRDn8Mz56usVIbi3bzPvzs8ynU3Xre3UbNy3YXAZGd8P0ukc3/3eS/zds68yP58CKpI7uoS8EHz1RifVDUmmpSQCWc0Ftbe38bnPPsIj+2+/rM8UySzwaplMXW4f+8pkOpuMcWx2qnpdyOniQ/1bODJ7gXPJ+bo1toc6KRg640t+7rbZ+dCGIZyaRjPw3PNv8PQ3nyMWW6jJYYkbnlTqlX6Ay40HH37yUcWm/q2QfFQgnUIIgRBioL+Tf/5PP8qXnvgUWy4SD6VKRU7FpnlnbpqCYRB0OlGEsuw6XZpk9RJ2dXV/Yqem4dQ0PDYH29s7cajWxo+kF4jls9XrFKEwFAgzl00Tz+fq1uj3+Qm63ExnFjAtqRuATf4Qvd62Sz5DopBjLpchWyri1DTUBu8LYMtQL7/8iQ/R1RXk/GSUhVS2nGiWDhD3CZv664OD946Njb58alVv/jrBDWOZRg58aZOG+d+B+yrCggB27dzI5z77SMNqg0Z4deockcxC9fuhYDs3hxfJp5sGZxPznCsLAG6bjVs6+wg4Fl3FdLGAEALPKtyuWC7D69MT5HUdgOH2LraHOkkUchybuUC8mEcAYZeH27r7caoa09kUsWzGIrvLRb/Xj6ZcnNSJQp7Xps6R1YsAbA12sCvcvaq/ydFjozz9zec4fuLcoqWycm8v6SifuVEk9eueTBWXDngKKEqwq4ogEPDyr3774xcVFWK5DAvFAi5No9vTRqKQ49CFMQqGUb3GY7Ozf9P26veNBICg08W9GwbRhEIsl+HNmQsYpsHe7n463d5LvodkIU8yn8OuqXR7Fi1MopBnLpvCpips8AXRhEKqWOBkdJq5fAbTNLGrGrd09tLjaaNkGrw1c4F4PstQMMxQIFxda3Ihzps1MZhbs/Pw5u28H7z8ynH+y58/QyKRxjAlAoqAHXjqRnD9rms3r9alA6kIyx8Tn/4nD13SnZvPZXlteoILqSTnU0kUIejytnEuGadkLpIp5HTR37ZYEvTO3BRZvVS3VskwCbs8eGx2YtksE6l5DGnS7nITcLov+T6cmobf6arLGY0mohyePc9MJkUsn8UwDTrdPt6em+JC2nLzJKCbJnOZDJ0eL7F8ljPzs5RMk1SxQH9bAE2xXLmsXmQqvWhxvXY7m/yhSz5bLQb6O/m5R+7AZtM49vZZhEBBSnGjuH7XJZlGRh4PbNn+of8kFP5USNkmhVCEEOzauVH88R/+S+69Zxd2u+2ia4wtzDObSVW/z+kltgQ7aHM4ieazKALaHC72dG6oi4vOLcTJLSGTIgQbfAE8Njseuw0QhFxu+v0hbErjuORiiGUzHJm5gF6WqU0piRdytNkdjC/Eqz+vwJAWmdscTiKZFLppEnA6GfQvWiaf3Vl9nz6nk90dvTg1G+lSkal0knSpgCIEdvXiIobdbmP3LUM8vP92Tp+ZFHPRJFKgCCnbhCI+NTh0b+Ds6MvPve83fQ3gunPz9u9/Yo9U+UukGJYCTRGCYPDSLt1SnE3EODa3qKJ1edrY17sRgIKhk9dLeGz2ZbHIuYU4R2rcJbDcvLt6N+G8xEYEy6VThbho5cL5VJw3ps8v+/mtXf2cnp8hWyou+90d3f30+QLEygJDwOlelstailg+y5vTk9X1PDY7d/ZuxG93XvR1tai4fvF4GlNKhERHyJPC4Nevt7q/68oyPXDgiccQ4tsCeqUQmgD2P7SX33/qsYu6dI3gszsoGgZFw8DrcHBTuBunZlkzTVFwaraGKp7XZkdTVbKlIqoQ+BwOdoV7aLvEBiyZBu/MRjgem2EiFUcRCqEVXMCCYXAhnUTW/EwIwWZ/kIJukCrm6653qBrbQ13YVRW3zY7f4aqqhQDTmRRjyXkk1JH4eDTCfG5RSay4t7Vx26VQcf1i8ynOno2UrRRhKcRnNm+9JzL23ivXDaGuC8s0MvJ4QHXa/kQgHkNKhCKkw24XX3ryU2uuWjBMA/USSlgj6NK0auNqFLucoXMhlQAJvT4/bm3R1azNMwFoisrdPRsJuz2La5oGGb2EAowm5hlPxqq/6/P52dPZR8EweGduivl8FsOU2FWV27o20LGC0HE6NsvJ+Znq9zvbu9kW6gDghXNnSBcLddcHnS7u7t1MplRAFQpumw3bKv8+zz3/Bl/78+9RLJakNKWwSpPkXxj50r+5HsSJa55MZbfufyDFNinQVEUw0N/J7/3fn2tqr1AtIpkF3p2fJa/ruDQbO8M9tLsuLSQcnp1kImntmT5vG3f0bKz+7t35OY7HpqvfCyG4s2eAnrIVSBRyHJ29QLpYRAjBBl8bIZeH+VyWoMNFt7etuql10yBTKlnSvN2+ontpmAb/MDlKpoYwXruDhzZuA+D43DTvJubqXrPZ306ikCVVtGKokNPNrnAPPrsD3TSYTCUB2ODzNyTZ6OgU/+kr/y+T52ctxe86cvuuaTfvoQNfHJFCeV5AN2W37tGP3cvvPfXYupUAzecyvDY1QUYvUTJNcnqJ+UKWPu+iMrYS3pmbrrpKhikZCi4KAALBTDZdFQ/a7A62BTvQFBXdNHg9MkG8kMOUEkOaxPM5PDYHN3f04He46hKsilBwahoum63umS5kFjgbjxIvZPHYHThUjbFkjGKN1G9XNQYD7QD4HA5yeomiYaCpChu8fuLFHIl85Tkk6VKRnF5kgy/A6fk5jkenmcmkUIRoaA1DIR8f+8V9pFJZTp2etNw+6JAKnx7acs+hs++9cs3mpK5ZMj1w4InHBMozAmkXihBOh138zr/7Nf7Rx+9/X+tcSCc5MTfNfCGL22avxhKJQo7pTIq0XsSmaFXVbXwhzlyuvvataBgEHU7aHBePi6SE+XwWRQi2hTrqYiKXzUbQ6UZVFEJODzvau6vxS6pYYDQZw5Cybr2iaVQ3frKYZyGfw7OCqDCbTfPa1DiJQo5YLosuDXo8bShCMJfNIJFoisJwe1c1wWxTVPp8fjo9Pvrbgjg1jdF4dNnaupT0+fyMLcyTKYsVmhB1KYOluOP27QwN9vLqqycxTBMkDoTy2KYt95y7VuOoa5JMDxx44jEF8bSUYLdrsre3Q/zZH3+encMD72uduVyaV6fOkS4ViedzLBRybPSHiOUyvDp1jgvpJFPpJMlCjqDTjUPVmMtmiOUzy9bq8/ovSaaQy027y0O/L0ifz7/s926bjW6Pjy6Pr66OzpCSyVRimeTttTkWnzcywbmFOKpQCDVwOc8l43XPXdANNvmDhFwewi4vnS4vg4EwPeWyI12azGZTjCVjKEIQdLpIFwt1uagKVEWh1+vHZ7czn8+iKSq7wj2XrPAY6O/kgY/cyquvnRL5fFEahhSKEI9eq4S65sj00CNP/okQ4stSShRFoX9Dh/izP/o8oZBv2bW6aTCVTqFLE5e2PK80lUkyW1NhbZgmXd42Ts/PkCwsKmJZvYTHbq9akqVKmlPTGAx0UDIMRhNRorkMHrujYczgttlx2y6e41oKu6qSN3Tma2r0AG4Kd9PmcBLLZTifTiKlxG2zN1TbDCk5n1qM8f1OJ5v97eVnstHmcOIqP1fJNDgenead6DTxfI6p9AKpYp4er59IJrnMQoacbrYGO/DaHfR6/WwOhGlzONFNg0QhT04vYVOUxuqn18VDD97Gy4dOiIVUFiklihCPXov5qGuKTA8eeOJpIcRvSUBVFXYOD/CV//TPVoyP3pye5PT8LFOZBUIOF+4ln5RFw+BCOWAGaHM62R7s5PT8bF0cAVQ3qcdmx6XZWCjlEVj1dXs6+2h3uXkvGePd+ByxXAanzUb7KqobVouQ04VNVdFNE7/DyXB7Fxt8geqzCaFgV1W2BMNVCb8WXrsDt81OWi/S6fZyU3sPDk0jXSygKAqKWNSiZjIpjken616fLhXx2KyqiLlcBiklqqLgd7i5tbOvmsy1KSqaolQJeTw6zWQqQcHUaXd5GhbP2u02HvjIHt5+Z4xobAEpJUKIuzdvuWfT2HuvXDPDXa4JNW9k5PGA5rL9Oab4FZA2hGD/Q3t58gufXPE1hjR5YewMOcOqRtjd2Vv9JK7FueQ84wvz2BWVmzt68dodvBuPcjwaqV4jgHv6NtPh9mKYRnUzCUWh271oEU/FZjlVlpn3dPY1LMfJ6yWiuQyqUAi7PVXrldNLXEgnyRQLhFweuj2+VUvOHwSpQp635yIki1aSeHt7FxvLMc7R2SnGamT3Cjb5Q+zp7COvl5jP59AUQdDpbvictf1ZFdzdu/GSOaqv/NFf8/wLb1oBphBFhPyOniv99rUgnTenwWWdoTrs38LkgESqYhVEAlCFwqZAO6OJKG7NRsixaCUi6QWi+Qxhl4den5+NSzb9Jn+Qgq4TyVg1eVuDHXS4vaSLBY7MWoWippTYFIUdoa6qKrcl2I5TU1FR6PEt3zSJQo43pictayAEA21Bbgp3o0vJ4elJ5nJWTDOWnGezP8Tuzr61/ulWxJHZC3Vu41uzF3BrNjrcXtpWaHGviDNOzUanW2E+nyNbKuF3LCfT0vgOoNTgZ0tR+X99/oU3kVLahRS/qrlsAL+2ird1RXHVu3kPHnjiaYH4uERqQgi++H/+Cp/99P5VvTbs8tDh9rExEKoqY+eScd6YmSSez3IhlURTFMIuT93rVKHQ6fGy0R9iSyCMv6xuvTl9nrlcuhovmVIyl03T7vLisdlRhELA6cbvdDWMD87Eo8xkFrtUU8UCHR4v8VyW0SWWIFMqEnZ7G8Z6a0WikGc0EcOQ9ZvbVSaTy2Ynkc/VFey22Z3sbO/CrmropsGRmQucmp9hMhXHpdnxLxFfVEVhJpOqpgI8Ngdbg+FL1vYB3HvPLrweF28cPoNEKkKKHZu33jN4tbt8VzWZykR6TArUCpHebwesU7P+8yuuyJuz5ykaevX32VKRTf5gw82/UCigqVY8kS4WeDcx1/AT122z0+H2LPt5plQklk+jKSo2RWU6myKxpKGvz9tGopBfJi4AdLq91QLUlZA3dHJ6qa48qIKcXiKn65QMo34TC5hILS+I7W8LEnC60BSFoNNtlU2pNrq9fnZ11Er1RU7EpjGkxJRWlUXPkuZDu6rS7vTg0GyEXV62hzoaqp26aTT82w8PD9DVFeTQz06A5ZHs2Tx0T3Bs9JWDF/2DXEFctWQqy99PVWZo739o76otUgVz2QyvXBhjfCFOsaTT4fEymUqQr/nEtWs2tgQ76l43m03zeuQcZ5MxxpPzSCQ+h5PzqWRd+0UFvd62ZXV009kFDk2NM7mQIJJdIOBw47LZiNQoge0uN0PBTjRF4Xw6Wfd6u6qxM9yNpigkCjlOz8+RKRXq7jOXTfOzqXHOpeLVaoS6310YZzQe5Xwmic/urJJBUxQMUxKtyZeFXR62tXdWk7wOVaPT7bXyTG5vfcewgAupRNVt6/cFCbnc6KbBaDzGO9EpMqUSQaebPp+fDrdnmSiSLOY5HJnk1Pws5xbiaIpSte4VbBnqZXomztmxiNV0KMTdV7NsflWSaTGPJFFVhYcevHSMtBS6aXBoapxsqYhuGszns/gdTrrcPuZyaQwpsSsaezp6EUJQMg3sqkq6WOC1yATpUhFDSqsfKJsm6HAipWBhSRGppihsDXQsUwp/NnWuStqSYaAoClsCYdrsTuyqRofHx/ZQp0VOBXw2BwvFAkhw2jT2dvVXXadT83OMJ2PM57PlHJS1MV+NnCNTKmKYJolCji63D0c5P/V6xMqfSSzJP5bLsCkQqqp2YZeHgNONIgRht5fBQPsli3Fr33PAYVmwDb4AG/1BVKFwPDbD6XKZ1Xw+S6qYp9fbtszy5A2dNyITxPJZdNOkaOhEMgt47Y6qS13BvffsYnomzvj4NKZpyeZXK6GuOgHiwYeffFTA01Jao7b23rpNPvmFT15UdUwVCpyJz2ACg/522l0eCrqBUWNFJFaupcft5b6+QeL5LF6Hi/FElLfKrRadbg+dbt+yfiSAC+kFdoV7EFhWxzBNbKrGTeFu2hu4eEuhl9vOe7xt9HjbLFcpOkW0XJUddLq4o2sATVVwaFpdPV3A4cSmKLQ5nXXunFYjZwtJlSjpYpG8Xm9BTSnJlIrV9omSaTCbSRHNpSnoOhPJeTYH2tnZvrpW9XaXh/Ylseb0koRuopAj00CgiGUzJAr17i7Ae4koAw2qJp78widJxNPyjcNnRJlQTz904IvjLxz86rLzqq4krirLZM3y5n8LsGs2jf4NHfIPfu9z4lKNfG/NnudCeoFUsUCqmGeTP4RdVcmUStX/NL/DxVAwjF1VsasafoeLM/Mz1WY63TRJFvJIKSmZcllw7tBsbA120ONto9PtY6M/yFAgvGxDVaCbBtFyHGRXVba1d9b1D71T0xFb2egFvcSWUMeyGr+A00WXt41+X7BOkHBqNjLlVo8d7V10enzV+0VzadI1fU1+h5Ptoc7q92cTMc7E5yiZJhKLbLFcFr/D1bDPKZrN8F48ynw+g7dM7qUYS8QpmovxqE1V6fcFl01Fms2m65LlFWiKUtdKX4u77twhDv3spExnc0jDFBLll7cM3vPs2bOvTDd8wRXAVUOmkZHHA8Ku/VRAUChC9PV28Gd//HmxmoLV0USs6lIJrHyIIhTaXW7aXW663T6Ggh3L5sa9HZ2mtCQ5KxG47HZySxrstgU7CJZjEmuSkA1DsmJxa7vLQ5vdQbfXx6A/XDfrIaeXOBmbWSYA6Jj0eP0NJxo5VW1ZPsdrd7DJH2Jjm1UWVAu/3UnJsD4kQi43uzv76qzae/G5OrJV4NA0ujz11SQ5vcRrkXPMZtPEcllKurFMcACrvnA2azUBaorCkD9Mt8fLe4kYx6PTRPMZFCFw2WxcSFvJ2VpUYrRGKCd2xUsvHyeVzoKUGgofHthw51+Nj/8s3/BFlxlXjZunOuxPC0mPFEJ1Oez8lz/5/Korv7eHOjg2F0Ei2RIIV7tfbYp60SShKpZ7j6oQDAc7OFwqUDJNVAQDbSH62wLVa6qDIdMpvHarAqIS3M9m0xQMHY/NTq/XX73+zPwcyWIeh6qyOdDekISaUHCucjRY3esaJE19Die39/S/r9cADROw6WKBXI0C2qg2EaDH08a+3s0UjRIKVnrh6OwFxspz/ObzWc4vJLmje4BtgTDvxucwrGoH2p1udrR3AYt9Ww7VVvf38Hpd/Mff/w3xz/7FH5MrFFUh2a46bX8CfG7FN3oZcVVYpgcOPPGYIsSXyuX4fPkPfpOB/s5Lvq4Cr91Bny/IZn/7ik1wjeBQNKaWqGi7wl30ev30+QL0+/z0+4L0twXqguip9AInYjPV2XiqotDp9jKaiHJk5jxT6SQX0kkcmg2vzcHR2SlGE1FSxTzxfI54PstGX3CZq7MlEK66ausBXZoUTQNNURBCLCtatSsqO0JdluvJotVVFYXpdKqaUuj1+JdZprmyAnpuIU6ykKPb4yOv6xyPzdTN8APL0u3t7ifodNHp9tHrbWNHeycuzVbNYZ2MzXAhlcBnd+CxLbqdXq+LjQNd/PgnR8vtG2LP1SJIXHEy7d//xB4E3xFgV1WFRz92L7/48/ve9zqaolyyn2gpXHarzs6uWDHUtmCY/jarGsKmKDhUreEU1Hg+w3TNsJWAw4nX7uTI7PmqXGxKSbqYJ+T0cGp+tm5D5XWdbm8bPZ42pLTcxu2hjqp7WgvdNDGt4s+6n0+nFzg9P0s0m0FTVdyajVK5Oe/w9HnGkvOIstxsSsm78SjHZqcYT8ZIFLL0ev2EXR4SxTwKAq/dzs0dvSSKed6aneR8KoHP7izPubAq0R2qRn9bgC3BcF2NXbKY59XIBJlSEd20OowXCjnanE6rs3gJFAFDgTAemwN/uXWl8r6nyu/LlJKSaVA09GWtHAP9naTTOc68ex5pnS+1f8vgvT+40vHTFXXzRkYeD0iV/yEkTqEI2b+hi8//1sfWXC9YMg3OJeeZSi/gsdvZ1NZe1wlbd1KElPjtDraHOlcUE5ai0+unI71AIp/Dodno8wXQTYMlH8DWhpDGMjEDoKDrDLd3XXSc1vlUghPRaRCCnTWFrfP5LG/MTFZjrulsijt7N5LIZ+tm9r01cx6VPpKFIu/VdMxmU0lyJYO7+zbS6/WTKOQIOFxkikWOzk1RMIzqnIlKrBdwuOoGadYiVShQWKKALhQLqELFpqrLioZre66SxTwFXSfkdKEpKqqiVI8shcZuJ8Dnf+tjHD4yKicmp0FKl1T5y5GRxz90JWv43v+cqSZCddr+BCm2SyFUh90ufv93H2tK4e2Z+TneiU4zn88yuZDgyMx5MsXFYPtCKsHx2DTZsoI2m03z+vRE3TW1yBs6yWIevSy1u1SNu3oGuG/DIPdtGKTd5cHvcNG9xEXrbQvgd7iWJSwVIepKmEqmwanYDKdiM6QKVgu5bpqciM6Q1UtkS8U6wWImnaoTL7KlIulCnoklM8YB5nIZpjLJZT9PFLPEy2pjhSQOTcVVY4lXM00JLNFn6X+cNRZMZWe4u6r8Cayeror8fiGV5KeTZ/nZ1DjvlKvUwy4Pm/whnJpGwOlmU2B5cXIFv/+7jwmH3S6QKEgxXI6frhiumJv34MNPPiqE+DJIRQjB7/y7X7tkc59uGsxm0+TKY7YaX2Py9txUXaVC0TQIlefGAbwdjSzLJemmid/pXPbpO5/LcmhqnPHEPOmS1b6gCKXaGl7rWgbKnbJem4MNvgBbAu04VA2v3UmqmEcicagauzp6quIEwNnkPCdjM0RzGSuh6/ZgSslYMlZ1G+2qymZ/O4oQZEqFOjdTCMFAW4D5fHbZ+/LbXaSLRfQl1lFi5bxqZXBFKPjsDmvgpqdtmTu3EuyaRqJgFb1W0ONtY1NbiJDTTZenjbDLQ583wNZQB95yDHS2nIiWWK5vj7cNp2aj29NGt9fPoD900ZFnlfjpxZ8cq8ZPmwfvPXqlBl1eETKNjDweUGzKT4TEoZTjpEu1m+umwWuRCc7Eo+UmN7GsQBWsT8Tx5HydayGo74QdT85XZ3fXosfjWzZh9UQsQixnVYmnSwUCjsV5c/O5LO8l5pjNprEpKm0OBx1uLz3eNtpd7upG9NrsbPa347M76fcHCTo9dSRMFfNVcnS4vYRdHhQhcGoaiXwem6qyq72LgNMiutfuIFMqktNLqEJhoC3IRn8Qh6JxYZmg0k2imFv2fh2qxrb2TuxL3KhK31aHu3HvUSNUa/lUFZeq0ePxs729C0dZiXNqGm3l2Kj2fRcMvfq+g253XY7JrqoNa/aWYln8pPDzGzfc+d+uhFx+RWIm1WF7SkjhQkAw6OPzv/WxS74mns8RLfcRSWBiYZ7toY6G124NhjlcEzt0eLx1uZMer3/ZCRKaUPHaG8QEst6BqWyG+VyWn0XOVRWu8+kEd3VvbNgynioWeDc+y0zGGphiV1V2d/ZWZfs+r9+KE0xJX40E3+cL0FW+pnYTaorKrV19LBQK5QY960Oi1+fnDgaYTMUB6PcF6PT4sKs2ZjILSCRht9fq9m1yNbrP7mBXWdpeLTa2hbCrloIXdntJFWKPOI8AACAASURBVIucTUSZzabp9Fht9L5VHG7w+d/6GD956W3r+FCJS3XYngIe/4Bv5QPjsjcHWqO5xJFKAetX//M/X9UJFJlSkR9Nvodetjghl5sPbVj5dXPZDJFMErfNzgZfoM7/L5kGJ6IzXEhbcxXsisbOcFfDUpZ0qciR6fPkjCJ93kD1ZIhjc1OcTdS3TQwFwtzc0bNsjcMzk0ws1MfFNkXh/v6hhvVwmVKRhUK+qqA1E/mSzvRCmnypRCRpSfORZIp8abmlboQevxenzYbTptHj9+HQVHr8zZHzX50aJ1Ljvva3BdjbtXKurBZHj43yxX/7DSr7Shjy1ss9OuyyWyapiq8hpa6qinb7bdtWfZSLx2bn5nA3o/EYNkWtbtp0qYhpmqhlGbiCDrenYVsEWArR7s5eNvlDZEtFfA7niqfqeW127u8fXPZz0eBzqFEiNG/ozGWXJzlLpkk8n11GpgupJG/NXkCXJiGni1s7+/HaP9iJf+OxBJFkiulking2z3g0/oHWqVtzhTUCbicBt4vN4SA9fi/dbT4C7tWPUdZNk3ih3jOLlZslk4U86VIBVQjCLm/DFMjuW4a48/btvHH4jDQN05Cq+Brw/kZVrRGX1TJVqsGREofDzv/zjS+saVDk+VSCt+cilKSJXajc1NFdlY+bhYVinkypSMhZbyViufIc7vJ5Rm6bnbt6NlZdLl2aaEIhXSry0vnRhjHaTeEetgTra9GWTlHdFupk5yrdp/FYgrFonLFovCnEWSsCbiebw0E2hYNsbg9eklw/nnyXeH6RUCGnm23tHbwZOU/JNKxZfC4Pe7r7cTWw2NMzcf7pv/gjCvkiCIGJ/Nw/HPzDv2j6G1sBl02AGBl5PKBo6g8rosM//tWPrGl0caZU5PXIBAVDR0qJLk3m8zm6vW3V2rZkIV+XdE0Xi7wTjZAs5OvGDq+EcwvzvD41yflUnAupBQIudzXWcNtshN1eHKrV/Dbc3oXbZuNkbLbqAibyOTrdPubz2WXD9FUhGAqFl6mSS4dCht1eOlbIfyWyeY5MRvjpu+f49hvvcGQiwng0TiJ7VZSqWS5lMs2pyByHzk5yZDJCIpfHME3C3uXvyWd3slDMIyX4nQ52hns4MnO+eh6WhGphb6NKF6/Xha4bvHN83BIjBA9eTjHisrl5S0WHX2/Q6JcuFohkrHq3sMtz0YEi2VKR0hK5VzcNTNNkKr3A8dg0umGVzuwM99DnbWMut8BEuRGtx9u2rNW6FnlD51RsFl1a/5FZvch4Ikp796J873c469Y4PhfhvcTikMZsudfo5o5e3po5T6I8kdWmqOxo76TTtXxD7Ar3cHhmEtM0Cbm8bG6rT+pGkinemowwFo0znVxeeX01I5HNc2h0kkOjkzhtGpvCQYZ7Ohju7sBp02h3eRjp30KqVMBnc5As5ik26GxO5Ffmxq9/ej8/OPgqsVjqsosRl8UyjRz40iZV8D8rtXe/99Rn6e6q3yR5Q+fNmUnOLcS5kEri0LQVT4EA61Pq/EKirrrArmi0uZwcnp6kaOgY0qRkGsxkUnS4vTg1G7F8lpDTw0Bb4KLSb97QmViYr0uOujRHXcHr0uvfnossqwTPGTp9Pj9bgh0EnS66PW3VVo5G8NodbPAFGQq0VwtiE9k8h85O8syRE7z07jnOxxdIFxonmK8V6KZJNJ3lVGSOn757jshCGpuqEPZ6qu60kDBTLhyuRa83cNETF7du6eOHL7xp5Z6EuHtgy/3fHH/vpXWvjLgslknFfEoidVVR1Ntv2yYaiQ5FXa8b/HguOc+WFXpbwBIGbuno4VhNzLS7s4e5XGZZYaUhTS6kktzc0VMdSl9ByTQ4E5tjKrNAu8sapuizO/Da7GzwBXkvbpXhKEKwsa1xewBYOROzQdmQKa1OUk1RVn0Ui0vTyJd0jkxGODQ6cc1ZoA+CU5E5TkXmcNo0hns6uHuwnx6/j48MbCGSXuDcQpzpzALtbg8bV/hAq2D3LUPsHN4oT52ewDBNQ8V8Cnhsvd/DulumkZHHA6qm/k8QChLxb/71P1pmlcBK58Ryixn87aGuOsuUN3QyerFO4nbb7PjsTrrcXraEOgm7PEymEstay8FqsFta7gMwlohxan6WkmmQLOSxKUrVHw86XbS73LhtDraFOum+yInlTlXjQjqxTGiwaRrbgp2rPnV9LBrnxdNjfPuNdzgVmbvmLdD7hW6aTCfTvDF+gSOTERCCzaEQmwIhhoJhNvgCq5rY1NsTEs89/6aw9p3curH/zq+vd+y07pZJc9ofR6KrqlB3bB9g9y1DDRVEp6qxp7OPWC5dnmizGKBOLMQ5FZvBkJKA08XN4V4kkmNzF5jP5TCR2BWVO3r6aXe568YAV7DSdNXMkvKbTE1JTKUfqtailEyD6UyK+VwGRSj0ef3VRO3N4V7enJ4kp5eQWFn8W1Yxc7vWCl0t4sHVgEQ2z7Nvn+HZt89w60APe/p72Bxenfpba51MA4fmtD+OdUj4umFdpfGRkccDqsM+KYT0glh1grYWc9k0hy6cw2TRhdroCyEUUXfYF1hz3+7rH2I8GWM8MU+pPOJrk7+dXeHG8rLVhzNBsSy97u3up8+7sjt3IjbNmfnFCuzKYWIVwuUNnVg2A0i8dudFRY5IMsXPzk5yMjK36qTpjY6A28lHdgxWRYuLoZLIBYmUIm0Uiv3rWVW+rpapbJWcSNi5c6NsZJXyhkFBLy0bIlJBulSoIxJA1iyRyy93f0qGNURlV7uVb0oV8vgcTquFu9ztOpVeIOyyujorQxfv7t1ERi/gUG0XDWyThTxjifrK7KJhcCY+VyWTU9VWbL2u4MhkpCpjt/D+kMjmeebwCZ61adw60MO+wYEV81e7bxli+7Z+efr0hBDgXG/rtG5kGhl5PCAlX0CgCQQf/bk7lxEplsvw9twUmVIRn93JLZ29y6q2Gw2htykCYbOTLtUfEakqSrWnyG931h1kHM1leC8+V85VFHCqNobL1irkchNiuRuYKRZx2DS0suqX04sNh1AWGiRkl6LlyjUX+ZJeldl39HSwb7C/oQv4i79wtzh9ZhIJGpIvsI5kWjcBYnDH/Z9SEB8XSLU97OdLT3xq2TUn52eqAzhyegkhxDKRwJrIapIqVwW4NBvD7d0EnU5mMuk65W4oEKa/LcB8LkM0n0WXZjXJmizk6tq0/Q7XssEhFaRKRQ7PTHJmfo7xhXlMKcsVzyqTqcSyZr+Q072iZJ7I5vnR6bM8c+QEp1ru3Logms7y1mSEk9NzaGp9reCWoV7+7uBrMp/NCyGEfT1b3NePTFvu+1shZBAh+O1/+bGGp52fS8arJ80BhBzuZRtcFQrdHh9Bp5suj5ddHT0gJX6HG395jpxd1dgSDLM5EKJkSg5NjTOxECeWS9PtsSoibJpGrlQib+gEnE62hTobWj2wClNnMta5TiXTYC6bxmOzV3uZojXzxn12B7s7e5etVVHlnjlygvPxhYYWrYXmIl0ocioyx5HJCH63kw6fJWK1+dziFWvMMiBuH3vv5XVpIlwXAaK2MtzttPP/PfN7Da+by6V5PWIlWN2anb09/Rc90+hCOsmJ6DS6aaAKlR3tXQwssQgLxTw/mRxFN000ReVDGwarfUyVg5MdmjX1pqLMxfNZgk4P3R4vRcPgp5Oj5JckCmsrmGezaZKFHHZVJVwe2l/Bqek5XhmdbMVDVwH+5cidVSv1sY//e7L54rpWlK9LzGQqPIaVpNUOPHLHitd1uLx8uH+ovJndF5WQ5/NZDs+ct84/BcDgyMx57Gp9MrTNbh0ENpacZ5M/VDcsXlPUuumiJ2MzNW0UMQYD7WwPdSIajACrLW3qdHuXCRVHJiP86NTZVjx0FeGld8/xK7ffBMCBR+7g+3/7ijRM05AKj7EOJUbrMwNC8BsgNNOUlzy1wqmqbPAFLpmLmcmka4hkQSKZaTAZdCgQ5qGN2y5aQZEs5OtODQSr/SGvL5+G49Q0NniXx0T5ks6PTo/xH3/wY545fKJFpKsMJyNzFMpjoh/ZfzumKYWQaNb+bD6abpnKs8J9SEl72M9Qg1gJrD6kwzOT5EolXKqNXR3d1elA1oCRWWYyKYQQbA601x0DU4vSKpS0RhCASX3ZkSx/vzUYxqVpTGdSuG1265QH56LKWBEVWvmhqxu6aXIyMsee/m6GhnoJtbfJ+WhSCITvwYeffPTvf/iV7zXzfs138xQeRUpDKIr60QN3rnjZkenJ6plEOb3E29EI9/dtRlVUTsdmGa2pvj42e4HhFXp6VjM0H8oEnZ9lOr2AEIKd4W46XJ46hc+Kf2xoijW8ZOmxnWPROIfOTnIqMrd0+RauUhw7H2FPv9Ud/fMH7hR/9b/+QRolw0QRjwJNJVNT3byRkccDSPnLgCql5OEVXLxkIU9qSX9PplgkXSqRKRWXDQUBiGQWGG7vwq5oCKwYZmuwo9oMmCkVWagZx7UU78ajjMajZEpF6zjN6fMMBsJsDVlHbG4NdnJzZ2/DbtkjkxG+/uKrPP3y4RaRrjG8NztfrW98eP/tGLopABUpf3lk5PGmdpI21TIpTtujAuFBSjYOdMvurmBDtdBjs2FTBMWafa8q1lEqBb2EsXSaI1ZV+VDAKnSstHtXxIXZbJrDM+cpGTrtLi939gwsa22OLCFoyTTI6yV2rXCESr6kWw1tE1OtWOgax9sXZtg32E93V5D+DZ1ycnJGCCE8itP2KNC0TtymWiZF8ihIXdVUfuWX719RdtcUlT1dG3BqGmr5qMebwj04y0e9BJzLy0NCLk/1dLkNvkCdSjexECdfJuFcNs10ZmHZ69uWTB5ShGg4rCSSTPHMkRP8xx/8uKXOXSc4Nrk4NfkXPnqXUDUVpCxZ+7V5aG7MJMQvISWGYXLvvou3pHe4vIwMbCNbKmBXtbqBJrd09HHYmCRdKiAQhFzuurOFlsKlLb5WCBoeQrw11EFWL7BQyKMIhZs6eupan1v1ctcvLiQWmM/kCHlcPLx/L//tG38LApuU4sFm3qdpZHrowBdHKl/3b+iUXq/rkglhp6riVJcnab02O/f0baq2Q1QqrxOFHKdis0gkw+1d1Tq+gbYA6WKeVLFAf1vjLsyAw8ndvZspmQYemx1BuY367ARHJiItVe46x8nIHPduGcDrdbFhQ6c8f35GCIF3//4n9jQrgdtEy6SMSMhrmuK4fe/WNVdWLE2wgnVMY8WFExLu7tsEWCU9d/VuvOSaDlXFoaocmYxwstzZ2cKNgbFonHu3WPM77ti7VUQic9LQpSEVMQJcbWSSI0LiNAwa9ixZ5T2rD9HeiUaYSae5ubNn0dLUTldV3h9fK4NIWlboxkSt+777liGe+f7LAiE1JCPAnzbjHk0kk/hw5SCQ3bcsDm1Ml4ocm51ioZhHE4KbOnouOQshWcgzuZCgYOh1x5psb+9EEdZRLTtWMUsukc1zcnqOIxNTN8QchRZWRtEwmEqk6A34FvenBEnz4qamkGmleEk3DQ5PTzBfM9f7zZnz3Nc3eNEOVLfNRrfHTzS7UNeS4bPZua1rw0WfJV/SOTk913LjWliGsWic3oBvMW6abG7c1CTLpIwARVVTbLXxUqZUYmHJmUclwyBVzF+UTDZF5dauXqBxKdJStAjUwmrQKG7SDVlAFY/ShLipSWSSDyGxL42XJNbk0toIRTSc0v3+UXHhxqLxFoFaWBUaxU1CSieCkYu8bNVoEpnEvY3ipYDDyca2EGfis9WfWce7rG5+3FKMxxKcjMxek9NMW7jyaBg3AVKKvc1Yf81kqtY3CXA67Hi99ZUGW0Nhgi4Xs5k0foeDLq9/1apeJJmqDqMfj8ZbKlwLa8ZUYqEaNzkddvKFAgK8IyOPB9Y6uWjNZNKc2h4AJAwNLT+byKao9Hisk8UvhQp5ppMpxq6iAfQtXD+IprPVrzdu7DRPn55UENV9/OJa1l4zmUzEJgVAQG/vys14S5Ev6YzH4kSS6bLbtvoDt1po4YMillkk08BAl3L6zCRg7eO1rr1mMimITRKZs9s050pV4pFkimQu3yJOC1cctZapuyuIZtNkqaTnlauBTEi5R4CrVDKqQV1RN/jO4eMksrmWUNDCVYVYDZmGBnvRS4YQ4ELKPWtde+1kEmytfOn1WOLDVDLVkqtbuGpRqSCvnlppCdGNG9veB5ogjYudSAmC6ryHaHr5Ga7XA5YehrzpIkPkE9k8iaxV+VE5lLmFqwOxdJaQx1Xdr1IIBNy11nXXRKaRA1/aBCYICAQWZzFEU9mLvOrqx6b2AN1+H0G3s/yv630ddnwxVFTKeDbHdDJFJJkmmWuplpcT0UyWrVjzPfwBr0wmUgIEa5XH10QmDX1TpVm3tydcOTX+mtocfpd1iPHmcJBuv7fO8gBk80UmpuOM5ueYiFgZ9HORebINDg5ohIGeEB6nHbfTxsaeEC6HnVsH6lMI+ZJOpJwOGI/GGY+t+yF3NzQqHgNAd2egTKa1y+NNqYCQEjRtsSeiMqvsaoRDUxnu6awSqNbinBqf4diJ85ybjhONpzk5PrPm+620RjjgoSPgZXhzNwM9QQa6gzywYzErXzk1/VRkruUiNhm1SrLdrllRShNq3JpCpqUPUvyAs+zWC36Xk+GeDm4d6KmzPKfGZ/jR2BlOjk03hTjvB9FEhmgiU3ffcMDD8OZuhjd1sWNzFw/sGOSBHYNWIW9kjpORWU5NRy+yagurQaFU+2EvGg3w/UBoWj9TV83RmiXjyg+pb0SguUSa5w6d5OTYDG+emrzCT7gc0USGnx4Z5adHRgGLXHuHBxje3MXeHf3cOtDTIlYTUHtUqm8V4xVWizWRqVr9AIsyI6s7r2g9UHHh9g31Vwl0LhLnW6+8wcmxaSamr61hKdFEhucOneS5QydxO20Mb+pm73A/e4friXVodKLlCr4PFGrcvKGhXl752XEApKmsaY7emshUyRprmloVH8DqWbqc2NEdZrinsxrYzyXSfOvZN3jz5ATRxPUh02fzJd48NWlZ1Gdg745+7r9tqGqxEtk8r4xOcGRi6qqOWa8GLDvE26aZpZKhCIU9rGHKazMqIBJ2u9ZGDZmKl+E/0+9ycutAD7cN9BJwO8nmi/z0yCgHD5285izQB0GFWG6njb3DAzxy9zAfvXkbH715G0cmIhyZmGqpgiugUFpKJpVi0UivNXZqQswktWy2WNdTsZ6fjJvaA9w60Fu1QifHZvjrtw5X44wbDdl8qRpnhQMeDuwb5v5bh1rW6iJYGobk8yVFIPW1HlfWhHIisfKJyk3Env4eHtgxWLVCzx06ycFDJ68bN64ZiCYyfOvZN/jWs29w/61D3L9niI/evI0HdgxyMjLHP5w6e03lANcLSwUy05QgWPPc8Sa4eSKNYF0IVXHl7hkawGnTOBeJ89fP3bhW6P2gYq0GuoMc2DdcFS3GonEOjU60lMClsPbxmtAMN093OOwmNXPLXTaN3BpaLLrbvOwbGqi6cpWNcblzQdcDJqbjfOOZV3A/a+P+W7fwyL4d/JO7dpPI5vmHU2c5GZm94VxAt73+/GG3225mM6uraLkYmuHmBaD++HG7pn4gMu3oDrNvaIDN4SDZfJFnfnSMnxx5r+XKNQHZfKkqs1dcwE/ctpN8aRuvjE5waHTihiGVXaufFGwYJs3wrtZGJkkCAYVCqU6AcGgaUFj1MrXx0FwizTeeeYU3T06QzZfW9HgtNEbF0g9v6uL+W4d44NYhHtgxyJGJyA0RV1n7cxHW/hWYyPG1rLs2MgnzrYp3l04vFg8uZX4jODSVfUMD1XjoRlflrgROjs9wcnyG7/7oaJ0KOBaN86NTZ69bad1Rsz+nZxbTKMoVJVMNRs9OVb+2aysv63c5eWDHIMM9HThtWiseugpQUQEtUu3kvlsH+Y379hJJpjg0Oslbk5Er/YhNRe3+nJmZb9q6zakaRyCt05UF1DO/gtr8UDZf5PV3zvHdHx1txUNXEbL5Et/90VG++6Oj3H/rEB//yC184radPLBj8LrKV9XuTymRUtKUYtfmVI1LidWIUSHT4rJ7+nu4daCnTlQ4eOhEKx66ylEbV338I7ur+SqLVJFrOq6q3Z+GYZQbbdeONZFJRxvXyp220ehC9YHCXjd3D/Zzz9BAnajQioeuPZwcn+Hk0z+s5qtqxYprtcC2toctHk9X962OtqaYac2MfOjAk7LSXfX8s/8ZAMOUqIrg5NgMzx06eVW2O7TwwRAOePhQOV/ldtoZi8Y5MhG5puKqT95+Ezf1WUcS7f+5f0tl/75w8Ctr4sOa3TwpOSME28BSRrq7LHfuy3/x/A1RcHqjIZrI8N0fHeXgoRPsHR64JuOqdq919OvoaFk0E9Y+Xuu6ayaTEDKCZBvCUka6u4JoqtIi0nWO2gLbvTv6eWTfcF0d4NXsAlZ63dKZcjpHlvfxGtGMUV8vIuRdiiKcR4+dZfctQ7gcNrxuB+ns6hO3VxN+4f6bsGurPzL0UsgXDX7w8vGmrXe1odIOEg54+MRHdtfVAV5tLqDP6ah+ffTYWRQhMJF5EGuaMw5NKXQlgRBOKaVMp3NVn7OnvY13s9fmIMqfv3eYRDzN/PzCmtcKt/vx+NzXNZkqiCYyy+oAP3HbznKP1RSvjE5ecRUwXHbxwCo0MKUJCOdaqx+gKbV5VhWENKU4feZ8VR7vDrfx7uTlIVOozU1X+wc786kRFKHwnb/5CX/37KtrXuuXfvEePvOZh5vwVNcOausAhzd18cg9w+zbMcC+oYGqtbpSBba1ZDp9ZtJEoiDWXv0ATSBTrTw+Nb2YTe5u4ua+FO7YtZFP/9ztTVtPv8oD6GsJlZKlynCYirXKl7ZxMjJ32TuC22vIFJmOVzNMel6/8sdwvnjwy+MPHXgSJCTiqaqbt6k3dLGXNRUCWFjI8rt/8K2mrPflP/jNpqzTwiJqh8NUCmwrsVUim+dkZJYjE5F1Fy36Aosf8vF4SlTqdtZ60Bk070zblxHcC3D02Ci7bxli20Bnc5Zezd2Bkm5w9FgrKXwtoGKt3M9a8yvu3zPEviHLDYwkU2U3cG5d4quN7VZDbf1ekS83Y+1mnWn7AnCHogjb0WNnxe5bhnDaNYY2hBk93+robKExls6vqBCrMhgmkkwxXo6xmmGxBmsOWjh67CyqqkjDMEvAC2tenKaRyXwRlP9gmiavvX5a/vqn9wuA4c3dLTK1sCrUuoG1xKpYrIorOBaNf+CW+801ZHrxJ8ekoRsCIezW/l07mkKmFw5+9cWHDjwJwOkzk9W4aXhzF//7p+804xYt3EBoRKzbh/urxAI4GZmrHnSwWqu1ucOK49PpHJOTs9V9+sLBr149ZLIgX4YrFze1cH1ipam2OzZ3MXxzB0B1sm3liNeVyDUQ8gOWi7eI5sRL0FQyWXGTaMVNLawT6qbaAgPdQeugg5pZ7GCRaywar8Zc47EEQx2L6vLRY6NNj5egqWSy4ibZipvqMDjYg8ft4P/6jeYlbg++0qrEB2vy0sR0nOcOnQRgeFNX9Yie4U1dDPd0VK9NFxanD73x5rtNj5egiWRaGjel0zm8Xhe37dhwQ8dNXo8L0zB4/eW3m7LeJ3/5wwTb3Je+8AZERXKvYKA7yMaeEBu7gzxwxzagHC+db368BE21TADyZST3IuDlQ8d5ZP/tbO3vINTmZn7h2j6a84NDUiiU+MtvPd+U1T72i/eUzzNu4VKoWK5z3UEe2TcMWPtyEc2Ll6BmcGRTIMV3JJRURZg/+cmx6iy9D9061NTbtNDC+8G9uxdPZPzxj4+aIJFQQorvNPM+TSWTXij+hRDCZpim8tobp5XK+K/7WmRq4Qrivj0WmdLpHK+/eUYBEELY9ELxL5p5n6a6eS+++KeJhx5+4gcI9quqYvvh82/yiY/fR1fIx+bedsamYtVrP/ahm9DU5nB5S39Hc8bLtHDdYedgN20ea+bDD59/E1VRMAyjBPIHzajHq0WTYyYwFb6tID5qGAZ/9+yr8hMfv08A3LN7cx2ZfuG+XUSjSeLx1JrvubEzgClbkUQLy1Hr4v3vH7wqDcMQCGEzkR/4ULOV0Hwy5UvfUxz2PwfcE5OzojIXYt/Nm/kfz75Rd+1ff/vHHPzh62u+51P//tfZtWvTmtdp4fqCTVO4c9dGwJpPUlXxJNl/eO4Pm+riQbMFCCxXTwq+jcBQVUX+8HmLQH6vk5uGepp9uxZaWBG37ejHabfsxXef+SmqqkgERSn49nrcr+lkAsDkeyBUQzfEDw6+XvW/DtwzvC63a6GFRviF+26qfv2Tl96xErUIu7U/m491IdPf//Ar3wMiUghisaSo9I7s3trHhs41H9DWQguXxPCmrmqD6tFjo8RiSSEtkSpS3p9Nx/pYJgvfQKILgXz6m89Vc04f+9BNF3tNCy00Bb9Ys8+e/uZzphBIJDrwjfW657qRSc8X/1RAQZpSHD9xTqlYp323bCYc8KzXbVtogb5OPzdv6QUsq3T8xDlFmlIgKOn54p+u133XjUxlIeI7UghdUZBPf/O5auxU68u20EKz8fGR3dWvn/7mc6aiIKUQOlJ+o9m5pVqsp5uHgfKUAM0wEcdPnBOVg6UevHPbNTugsoWrG+1+D3fdZMnho6NTHD9xTjFMhADNEOq6WSVYhzxTLV48+OXxBw88+U3g1xRFqN/87z+U//aLv6oATESad8jUjQS3y8GBfTu4u7xh1opsvsif/FXTCqevOB4dubn69Xee+amhqopiGKY0Jf/rxee+vObZeBfDupIJLOukYX7WNE1e+PvD4rOfeZjuriA7Brt5wTQvvUALSyAx8kWKqbUfEtceaqOvo+PSF14jCAc8jOzdClhJ2hf+/rBqza4SwhTKv1vv+687mSrWSSB+VVGE8y+/9TxPfuGTeFwOuvqun//Iy4m/eeYl/vbvDq15nV/4thrUgwAAGvNJREFU+bv5jc/9XBOe6OrAZz56R/Xrb/73HxqKIhTTlKYp+ev1tkqwzjFTBQLzLwCnYUqef+HN6lEej33qI7jbWspeC2vHzsFubtvRD1ix0gt/f1g1TClAqKopv3I5nuGykOmFg199ESm/D+iKgvza179X9e/+j9/++OV4hBauc/zmL+2rfv21rz9jKgoS0JHy+88//4drHn28GlwWMgHoQn1cSAqmYeWdnivX7D30oZvp39J3uR6jhesQP3fPTjqDXgCee/4Njp+YUExDCiEp6kJ9/HI9x2Uj04sHvzyO4KtWh6Pkv379+1SaB//9E59CKK1+pBbeP7xuB5/4yC2A1fz3X7/+PesIdYSO4A9fPLj+sVIFl41MAC8c/MpTCGYRQi/WzEXYPNDJPR/eczkfpYXrBP/4kb04HTYA/vJbz1Ms6GDV4MVeOPiVpy7ns1xWMgEI5KcBzZCSZ77/clWMeOrJT+HwuC7347RwDWNLf7g6X2R0dIpnvv8yRrlJVAjzU5f7eS47merFCCG/9vXvV8uM/sPvfKbyqdJCCxeF12XnX/3qh6vff+3r31sUHUz5g2aO8Pr/2zv7+Kaq+49/vjfpE1Qo4gDxqYjOB1TiT52KOgJtaeb0ZQEfNh1SNrcxdRKUZMxNLW5O1wAW52Dga6MwdT/BQRmbv5SmEPZi6oZoYePBbWhRnOADlFmkTXPP9/fHvbm5SZMmTdOkLef9evF6kTT33HMfPud8z/d8v+ckS6/PM8UiSBanlUWpUMXg3XuasW79Nkybej2uso1Fxa121K3dko1qnXQMHpwPq0XBRWNGpa3MQ5/+F0czsKzbA1+zG+sHrlu/Dbv3HFDADAIFgorlvl6vQAyyIiZ9g7SFzHiYmHOWrdiI8Zedi7FjR+O+bzqw6+/78c6+97JRtZOKsWNOR0F+Lh6eVZa2Mn/7ynZsen1f2sqLxVT7ZbhozEgAmnm3bMVGgDlk1WTU6WAmK2ICNGdEqcNVCuAqIsp5+NGV+PXyB6mwsACLn7gHd8x8Eu26t0/Sexw/3oaKWx9LS1kvvfhIWsrpiouKR2LaZC0qvLX1BB5+dCUTEQSgEvivPq8no04HMxkfM5kJtnXcBKaAYKaWo59R9aI1AgAGD8rDE49/E5SmpcAkA4Mhg/PxwNfC46Qnnvqd2nL0MxLMRIz2YFvHTVmsXnbF5PfXtIDEzQRAZcZrr+9R1q3fBgAYf9HZmFHpyGb1JH0M5512FA7KA6CNk97Y8bZFZdb2eCZxU2/mKiVD1sy8ED7vQn9JuWsJgHsB5PxmldcYP824dSL2vn0Q27ftynY1JUkwdMggzLjxqoiA057weVsA3/3ZSwCA2dOvw/lnaYHRkeMkqAD9NBveu2iyLiYAaKz3OEvLXSUgfDEQCOb87Ocv8pLF9ymFhQX42Y/uwnfmHsO7+w5ku5qSBKiqwMY/vYZtf9md+McJuPpLF+CrN2rxdtMmjTcWk2xtPYEnfv6iICJisCDg9UxPzsajT4gJAIJkudnK4u8CnHvw4Cf048dWippF9yoAsOLpe3HXtxfho4MfZbuakgR88MGnadn1fvTo4WAwJowfg6l6uBAA/OjRleoHBz+xCGYQ04kgKd/o8cnSRJ8Z4fu9TzUzYwYBUIXA3r3vKdWLXjKiy1947iEMGT40izWUZJrmg5/ge9OvNz5XL3pJ3bfvPWOcxIwZ2XKDx6LPiAnQ1tsT4FlEBFUINPjeVDyL1xh/f+4XD6CgUG70dTLQHlRx3jkjjc+exWvQ4HvTogoBAiDAs3pr/btU6VNiAoDNXk8tMy8hIoAZmxp2IOThO3VYIX7x9P3IycvNci0lvUluQR5mzZiCPGNp423Y1LADAId2O1mw2Zv+tcJ7Sp8TE6A5JBhYBaIAM2PZio0I5T+dc+ZwLPTMRm5BXpZrKekNcgvysdgzG6P0lX/rG97AshUbwcxgQBWM3/UVh0M0fVJMANDora4UjN9rrk/GwsVrDUFdfP4Z+NWzczBoqEx5H0gMGjIYv14+FxeM1RaQrG94AwsXrzVc4My0ZnN99Z1ZrmZc+qyYAEC0B+4lxl4GVDDjmV/W4S+vam7Xs0YPx+oV81D0hWFZrqUkHQwbMQyrf+3CqC+Ee6RnflkHgMEElRh7+7KQgD4uJr+/piXY3nEDMfaCEAi0BVD1k9VGDzV0yCCsXT0fHx3p+YZpkuxxevEorFk1H0MLtXy2UI8UaAsAQIAYe4PtHTdktZJJ0KfFBIQFBcY/2WTyravbZvxm6k3X4O1/HcxiLSWpcrHtfKxeNtf4vK5um2HaMUEF45/B9o4bsh0qlAx9XkxAZA/FgMrMWLZ8I8xu86uvvAATy9ITxiLJDJMd12DJk/cYnz2L12DZct3ZoJt2/UVIQD8RExAWFDOtIaJAyG1uFtSPH7wV89x3wpLbZwI7JDGw5OVgnvtO/HBOeJk3z+I1mvvb5GzoT0IC+lA4UTLoN/bOEoe7lohmMjN8vjfxwQef8k8XVFJhYQHKJ43HxReehbk/WI5jH/eb53DSMGzEMDyzcLbhaGhtPYEfP1bLe/ceIGZtHokZfdprF49+0zOZafRWV4YmdrXQowM058GlHFqc5azTT8XLq3+Iy6++OMs1lZi5csIlWLNqviGk/fv/gzkPLuW9ew+QYKELiZf0RyEB/VRMgDaxGwo9Esx4/+BHmPPQUsPTBwDVVTPxve9Pg2KxZLGmEkuOFXMevB1PPjLD+K6+4Q3MeWgp3n//I31FIdJChOo9GVs0Mt30WzEBeuiRwFQwWpm5o70tgIWL18KzeI2xwOW0G6/Gs88+gBFnjshybU9OzhgzGr9a6sRNZVcA0My6Hz26EgsXr0V7WwAMFsQ4zgJT+2KIUHfo12ICtODYICmXgvFPBjoYgM/3Jr713UXGmnznF4/CC889hO/cW4EcGYaUEXIL8nDfA9NRu3QOis8MJ/V967uL8MYbb4OBkOt7b5CUS/pa0Goq9HsxAVr6hq/ecymApaEU+KNHPuPZ9y+JmI+67eZr8cq6x3HlBLkNaG/BYFw70YY/rXscFV/5kvH9urptmH3/Ehw98hkbqeaMZ331nkv7UhpFTxgQYgrRWO9xssBUYrQyuAP6fNTcecsQ2gIUAJ58ZAaWPPMAhp8+PIu1HXh8ePgIHDdejcfnf9347tDho5g7bxmWLd+orwHOHcQ4DohJ/Xl8FIsBJSZAN/vaA2cB2B4y+3bvaeYZlU/hty/4jLHUxeefgf/9jRuV99wkc6R6yOChhZh9/zScc9YInHeOtqBla+sJLFu+ETMqn8LuPc0MAAx0ANgebA+c2RfWbEg3/WqeKVn0+ajrSx3uKgCPCYZKzNbnX2zEH1/5Kz9wXwVdN2EcAOCu6Tfgruk3YPWarXj55a04kYbtLU8WBhcV4o7bJ+PrU6+L+H6TbweeXVqH9vZgaEcKBuMEEXn6avpEOhiQYgrh81ZX2R3za61QnwfRdUIIHDlyjKp+shrjLi7m7997C43Vw/3vvn0i7r59Impf8uMzufhllwweWojbbrPjrumRsaf79/8Hv1hax7v3HCBjhVUiQLA3qFjuGyhjo3gMaDEB+r5QwPUlU9wVUPhZMI0kgnXPnmbMvn8JppRdgRl3lWHUSC2Vo/IOOwDg7PPOQMEpg2VPZeKUYUMwffqXO4no0OGj+O0LDdjUsANE2pbMAAXB+JRIfM23aeCZdLEY8GIKobte60od7iowXIKQC8Da0Pgmb2rYQdGimnbj1Zh249Xwv7oba9dvw7/3HYAIqlm9hmxgybHii+PGYMYdk3CVbWzE3yJEpGh9ETNUAB1EqB7IJl0sThoxhTBMP6H+EgrdyIJVBqwNjTsMUU0pvQLjL9NeHPuEcbDr46vnnvfB17gDRw4dyeYlZIQRZ45AedmVuPv2iZ3+tnPXfqx5+c/42/Z9hoggoBJgheBNJ4NJF4uTTkyAYfp9tdQxzw7QTwl0ndBfhgafJqpLxhWj8u4phqgA4NvfKMW3v1GK/c2HsOolP3Y1/RvHWwZOYuKQ4UMw3nY+Zt1ZgrNGd5422LlrP1au2sS79zTr8ahaDBABBMGboLDnZDHpYnFSiimE7p693u6YX2yBqAIwUzBUAlt372nmeT9YQaedNhS3Tf8yJlw7zjABxxaPwuM/0Dame//DI3j5D69i+/Z9+PjDTwDB8U/Yx+hQBd45cAgVt03C9JuvMQJQzRw6fBSvvrYba3//Z3zyyTF91xaGYFIJsArGS4KUh/2bTr6eKBq5TZ+JkKgImMmMIAhWAkMhBYIZl4wrxlccX8KEay5GYWHsLUNfXLcNm7c24dDBj9D+eTseefguXG47D9NuX5CWOr7yhyewbPkfsfFPr6V0fEHhIJw95nTYb7gUt958bczftLaewKuv78H/ef+Gf+xuhkIEIQSYCACrBLIwsEqFUnUymnPxkGKKgd3uLLLm5zrBeAiEQgBBBqwU3lALE64dh/KyKzDh2nFxyzl67Dj2vP0+CMBvnm/A4Q+PoK21Z7vqdUdMg4YOxsjTT8PYc0fDdtkYTLjiApxSmB/396++thv1DTvw6mv6WuHMYCIQEARgBaMVhEXBtkBNf0rayxRSTAnQXOqoIGAmEHL7AlZFEaoQCgBcMq4Y/3P5+Rh/2bm47NJzuyzvs9Y2vP7mv/DewY/x0cfH8Omnx9ByrBWt//0cnx9vQ6CtHWpHMO7xITG90rAdefl5KBhcgFOGFODUYafg1FOHYOQXilB89gjDadIVu/7+DnbuegdvvvUv/GO31sFYFEUEhVDMLwYDqyBQNxCCUXsTKaYksdudRUp+ToUC3APQdcwIEsHK0PzBFquFVVUQ0D1xZZKY4rEorAZV0nsghK4Lgl8RCtaKto462QslhxRTCtgd84utLCoY+A4RLtK+5QCDcoHO4jrzjNMwfPgQjL9sLEaOHIZRI4fh3DGnxx139YTW1hN4590P8e/9/8Hx423YuWs/Pv30Mz74wccERIoHAAgcgF5vZuwlYEWQlDo5Fuo+Ukw9xG53Fllyc+0gtgM0Jaa4AIAZOblW0dGhRgQXX3jh2ZyXayUAGHvu6E4CC4nv0OGjOGyKfAc04ex/R8vZag8Eed++9yKep9WqiGCHqoDIME+jxQPwJjD51UDAL3ugniHFlGbii8swoQCwFdBecDIG+WGXekFBrioEqL29o1NUf15ejlAU8IkTASMXn0GmcrRvAArq/hJj+kOKp3eRYsoAZWUuG1u4CFDszFxEBBszXUiEkbF+z4wgKdwKpnwAZvdbG4jbWFChWSRRxx4m4n3MaCKiFkD4SaWWhgZPU29cmySMFFOW0aIwTLBiAyFi9pSBYgIixzCMFpCIEMhAzBGSSCQSiUQikUgkEolEIpGYkN68LKIv+MIA4PNWpyesXJI1Tup8pj7AY6b/SzH1cwbcunkSSbaQYpJI0oQUk0SSJqSYJJI0IcUkkaQJKSaJJE1IMUkkaUKKSSJJE1JMEkmakGKSSNKEFJNEkiayEptnd8wvtkLMBNgOkJG2zUAzwH5irvPVL9yQSrkWVm8hQgUzbERUBADM3AKQH4Q6tS2wIZWFROx2Z5ElP/cWgO0EFJvrrdfez4w6tb1jVToWKpnscFUSMBEg/Xyh03ATE5pSvUfRlJW5bKzQTBDbIp4FcwsRmphRp5JlQ3eW/go/XwAQW0Pp9Ha7s8iSlzOTCBVR92+BefuZyQ5XpQI6BwCCUFaFzh3reAaaCdwMpiaQ2JDN1P2MR42HtsZM+EPmpiBZpibzEPXljOcASLgfkCYsVDXWe5YkU99Q2czsDIkzUflMmLvZ66lN9NtSh9tYksjnrSbAWEH26QgBxTsX0AyBuamstKrvAPJY50Yh3rm4Vm3rmJtMQ6GVrWzRPy7weauryspcNmGh9TGvizHXV19dEz7e5QdI38tGTPJ5F/pLprgrQLwy4TNg1ATbAwuysfJSRs28Eoe7Fp2ExFuNf4xjxtdENgurb9ntzi5vnt0xv9ial7MFUUJixs5Y5RJRERHVlDhcKxPVt6zMZQuVHf0QGXwgXPcwRFSkgFZOdrgqE5UfTYnDXUsKIl64yPNEXQtQTArWJ3MtZrQGTdkSo3c1zqPdP9N1gSoteTnvlpW5bN29rrIyl00o2BK3gYhaGCaayQ5XJSlYb1gace69XlGnNT9nfXfrmA4y1jOVTHFXkALjIpl5idreUWVuQfRuvIqI5iD8ww2+ek9FrDL1379rvOiMYyDUBKHURvdoscpmRl1jffXUeHWOamGhP8CqWKaEvs1nDenmCTO3qGS5vKue1dwzQUvBiEjJiHUdxrkIVUQYn+y1GMeWu2oi7gH4AANVsZZB1s21yqh6gVS+vKulw6J7JgZXGvcFWKWoXNP18eGeiZmXhOsb+/5rYqXaiPshMDXTa6NnTEyl5a46EN0CaDe00Vsdt+UuLXc7QXgazBuC7R2V8brsknJ3U+gGMviAoqIi0fpwpY55drBSB8JQaAdGmBjR6GOXKghyJno4druzyJqX2xwqm5mXNNZ7nPHr4u60mRMzdiqCK5NZ567E4a4NbSiQzPn0sYjRiyV6DiH0cZXfdF0tanvHmHjPxSwmbUyDYq2hExXJjGkizbzk6qo1lrn+8PuA5kZv9ZhE50onGTTzwiYFQXQ5ntBebjHJV++piPfAJjtclUZLxDiWjJAAY205wyRkwpwufo7NXk+t2tZhS6aV0+saNjf1xiNZmLFTbQ/Yk10wstFbXcnMxtiPiObYHfNjmlJ2u7OIGE+bTrYhGSEBQEODpylIii1kYhJRkSU/N24DZMYw7ZIUUmx4a6K6+v01LUxs1ImA4nj3orfInJhCPQEAAUp4kYluPJkFwUiqJTfKrq+u0exu7aYnGt90ZzBLgo16J+NEMKMIjtsLx6Ox3uMMXQsA6DsgdsKan+s0m8PB9o5ujen83qeaBbHR6xEwM9mXlYFVPfGyBWFJqq6bvZ5a85jSiuDAFJN5QKsw5iRyLHRFWZnLFrbB+UAqtjGBak3/T8qjlQypLkPMwKoeHGsIyGz2Rf6Gwy8kIaXNyjZ7PbVm4VpZxBzLRqOonFQvFgtm7OzWjhzE4XvISredJT0hY/NMRKgDdLOMyGbJz32rxOGuSmXehy0UfoiMlAaZAtyshIeMnbcUTwK7Y35xDqnndKpfCtvaJjJ9u0K0ddQp+bnGWKhkirvC3MDYHfOLCcKoJ6mc+sCcUQfDNOaZABIKpSfrnOvvTdIwqJlCzzNqmeneJmNiCrYFaix5uRWhcY5uAtVa83NRWu5qAsgPCH+wPbg1obiYbaHtMIkwvtThTjxvFV0E2DABkjXHdI/dLcSwgcgGCDCnx4fTEzPI769pKSl37zTurQIbEH4JNXMnbIT0aBF/Jr8hJqIkWv4Y7utepNOa7BkkY2Ly+2ta7Han3ZqfUxftqdEfig1QnNb8XJSUu+uIxJK4L1hEi0N2AN0206gbjszScreTCXP0yIf0+0DN82spQsQt8SomQMUhKZnNtJTOo4iWTA61WaDf7N6R0XAivcexlzrm2RlKJTEqzI6JEFq4iFJRWu6u8dVXz81kHc1oIUQ5TwOojNjjVZsQ9hOoOfaEo3luKjFMOJr4V6mjMBWFdEbcu+dKN5p4+wdZic3Texw/oDkTVAtsBLJ3EhfBWepwHzPHbcVgQYK/p4wlL6eKQOGBO/OGIFmc/vquB8SlDne3ztNdr1+3IdFk9CZJmWaSVMh61HhDg6dps9dT2+itrvTVVxcJ8Kwos+exzi5YMsw/7qUX0e6YXxwRiQEs8NV7Knprr9dUwnQiCZvO0aYRqdQpsiH18yimYNjIkKOTnayLKZrNXk8tCbZHzBdEuWAjXhbmW3riZo+HAtUUzc4Hku39Un1RhYJux/KFKJnijrg/aiAQMdZsaPA0peLSjgUzTMey3FzNRJ8TE6B7m8zzBVEuzsZN1XXm2Xhrfm7cEJpUUUwTy93xEJlF2E1mptookBKeTAVznKkGU2+eIOojHqWOeXZz/JsikLI7fyCSUTFNdrgq09aLUHh+g5nndNdMKnG4a0vK3evT3atREmkgMY8jKkol2rm03O2M8I5S7AlSFYp5Yre4pNzVrYlUu91ZxFBM0em8Ve6TG0lGxGR3zC8udbi2KKCVlrzchOkCdruziDncAgpwp54h2BaoCdnsRFQkFGxJVlClDncVATOJUGHNy9kSU1AMU+tOE5MpWws8pU6TuMlD9u4IfLLDVQmKjLeLN53g9z7VHB3Hl2yaiBbAmxNOoWAcIxVptwb6OxkRk2b6aCE7RKgoLXe9FTcgU89PMseRibaOTrPgfn9NiyK40mzuCQVbuprALXXMs5c6XFtgSilgop2xzKIgKRHnFBZa32kz51Cd7c6iknL3egJmMvhASgNz5g3adaBCjw6JGRYEaPeoxOFaGREBztiZKN6usd7jDJ0HABTQypJy9/quxnmTHa5KS37uW2YvoCB2yl6pM5nLZ4pKFwAAMDfp6eQtYBQBbI923SbKS4lOD9CK1dLUiTRHBTNsBC7uVHaiVJBYWcHmOofKpvCgnFS+nC2oic4UjVO+EXgUbAsMi57Qjr6OuPdIjzZPJixL72VqO0W0x7gugO3RSZECPCtRFnFkPhNv9Xk93RpHxsq0Tf7YiGfWa9MmscjYPFOjt7qytNzdBKDKePGNyAfosjZpm3FMEDs3b/J0GZvV0OBpsjvm26xQa0MPQH8BKvR/euRRuGwGH0gmP8nnra4qKXcVRbjIzXU2ygZC+ToNDQubSstdLd1tpsIT2uGXIfo6Yt0jEGoa65N/YfTzVJQ63FVgOGM+C3S+ZwBvJRXOzbJHiktGHRC++uqaICk2Zl4SL6xF/35BsD1QnMw6CoA2HtBaPzGJgVVxQ2aYNwjwrGTzkwDdNNLLTVTfUAsqCHVx06ojj94a/Tuft7oqCGVMl/dIMyMXBEmxpdry+rzVVcH2QDEYc+PWk3GMgVUsMNXn9SSdZ6XNaxnp790Wn3aMdnz0HFkitPG1dmyssXZvkvVtOMvKXDa2cBHQs2DPWITGOMG2YFO6FtgI1ZdUasnEuEFb0MVqA4AgrM29NWkMhNLUtRygbK7yI5FIJBKJRCKRSCQSiUQikUgkEolEIpFIJBKJRCKRSCQSiUQikUgkEolEIpFIJBKJRCKRSCQSiUQikUgkEolEMjD4fxTORo0Wl5AkAAAAAElFTkSuQmCC)"
      ],
      "metadata": {
        "id": "Y5qKzX_m8zPW"
      }
    }
  ]
}